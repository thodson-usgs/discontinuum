{
 "cells": [
  {
   "cell_type": "code",
   "execution_count": null,
   "id": "0218fe5a-d745-4eb6-9d18-2d3eea2296e8",
   "metadata": {},
   "outputs": [],
   "source": [
    "import requests_mock\n",
    "import requests\n",
    "from dataretrieval import nwis, wqp, utils"
   ]
  },
  {
   "cell_type": "code",
   "execution_count": null,
   "id": "fe9cadbd-f5fd-4251-bee3-e2a56d47d688",
   "metadata": {},
   "outputs": [],
   "source": [
    "responses = {}"
   ]
  },
  {
   "cell_type": "code",
   "execution_count": null,
   "id": "3d2cd43f-47d8-40b9-85a1-ada54693ec1b",
   "metadata": {
    "scrolled": true
   },
   "outputs": [],
   "source": [
    "site = \"01491000\" \n",
    "start_date = \"1979-10-01\"\n",
    "end_date = \"2011-09-30\"\n",
    "\n",
    "kwargs = {}\n",
    "kwargs['startDT'] = kwargs.pop('startDT', start_date)\n",
    "kwargs['endDT'] = kwargs.pop('endDT', end_date)\n",
    "kwargs['sites'] = kwargs.pop('sites', site)\n",
    "kwargs['multi_index'] = True\n",
    "\n",
    "response = nwis.query_waterservices('dv', format='json', ssl_check=True, **kwargs)\n",
    "responses['get_daily'] = {}\n",
    "responses['get_daily']['text'] = response.text\n",
    "responses['get_daily']['url'] = response.url"
   ]
  },
  {
   "cell_type": "code",
   "execution_count": null,
   "id": "3bdf24dc-5f98-40ba-9bc5-1eef83539632",
   "metadata": {
    "scrolled": true
   },
   "outputs": [],
   "source": [
    "kwargs = {}\n",
    "kwargs['siteid'] = \"USGS-\" + site\n",
    "kwargs['startDateLo'] = \"-\".join(start_date.split(\"-\")[1:] + [start_date.split(\"-\")[0]])\n",
    "kwargs['startDateHi'] = \"-\".join(end_date.split(\"-\")[1:] + [end_date.split(\"-\")[0]])\n",
    "kwargs['characteristicName'] = 'Inorganic nitrogen (nitrate and nitrite)'\n",
    "kwargs['provider'] = \"NWIS\"\n",
    "\n",
    "kwargs['zip'] = 'no'\n",
    "kwargs['mimeType'] = 'csv'\n",
    "response = utils.query(wqp.wqp_url('Result'), kwargs, delimiter=';', ssl_check=True)\n",
    "responses['get_samples'] = {}\n",
    "responses['get_samples']['data'] = {}\n",
    "responses['get_samples']['data']['text'] = response.text\n",
    "responses['get_samples']['data']['url'] = response.url"
   ]
  },
  {
   "cell_type": "code",
   "execution_count": null,
   "id": "922fda77-eab1-4876-beeb-94c5b1330b7c",
   "metadata": {},
   "outputs": [],
   "source": [
    "payload = {'fmt': 'rdb'}\n",
    "url = nwis.PARAMCODES_URL\n",
    "payload.update({'parm_nm_cd': '%00631%'})\n",
    "response = utils.query(url, payload, ssl_check=True)\n",
    "responses['get_samples']['pcode'] = {}\n",
    "responses['get_samples']['pcode']['text'] = response.text\n",
    "responses['get_samples']['pcode']['url'] = response.url"
   ]
  },
  {
   "cell_type": "code",
   "execution_count": null,
   "id": "2d1f0831-42d7-4b45-98f0-5ba4820c54eb",
   "metadata": {},
   "outputs": [],
   "source": [
    "kwargs = {}\n",
    "kwargs['sites'] = site\n",
    "kwargs['siteOutput'] = 'Expanded'\n",
    "response = nwis.query_waterservices('site', ssl_check=True, **kwargs)\n",
    "responses['get_samples']['site_metadata'] = {}\n",
    "responses['get_samples']['site_metadata']['text'] = response.text\n",
    "responses['get_samples']['site_metadata']['url'] = response.url"
   ]
  },
  {
   "cell_type": "code",
   "execution_count": null,
   "id": "85e5f681-5f76-4026-bf0e-42939baa375d",
   "metadata": {},
   "outputs": [],
   "source": [
    "import json\n",
    "\n",
    "with open('nwis_responses_loadest.json', 'w') as fp:\n",
    "    json.dump(responses, fp, indent=4)"
   ]
  },
  {
   "cell_type": "code",
   "execution_count": null,
   "id": "91bfc1da-5a8a-4661-b5e9-7252b973bf0f",
   "metadata": {
    "scrolled": true
   },
   "outputs": [],
   "source": [
    "site = '10154200'\n",
    "\n",
    "# Select a date range\n",
    "start_date = \"1988-10-01\" \n",
    "end_date = \"2021-09-30\"\n",
    "response = nwis.query_waterdata(\n",
    "    'measurements', ssl_check=True, format=\"rdb_expanded\",\n",
    "    site_no=site, begin_date=start_date, end_date=end_date,\n",
    ")\n",
    "responses = {}\n",
    "responses['get_measurements'] = {}\n",
    "responses['get_measurements']['text'] = response.text\n",
    "responses['get_measurements']['url'] = response.url"
   ]
  },
  {
   "cell_type": "code",
   "execution_count": null,
   "id": "0960c45f-2e1b-46bb-a7ae-9ce65a90a8e8",
   "metadata": {
    "scrolled": true
   },
   "outputs": [],
   "source": [
    "site = '12413470'\n",
    "\n",
    "# Select a date range\n",
    "start_date = \"1988-10-01\" \n",
    "end_date = \"2021-09-30\"\n",
    "kwargs = {}\n",
    "kwargs['startDT'] = kwargs.pop('startDT', start_date)\n",
    "kwargs['endDT'] = kwargs.pop('endDT', end_date)\n",
    "kwargs['sites'] = kwargs.pop('sites', site)\n",
    "kwargs['multi_index'] = True\n",
    "\n",
    "response = nwis.query_waterservices('dv', format='json', ssl_check=True, **kwargs)\n",
    "responses['get_daily_stage'] = {}\n",
    "responses['get_daily_stage']['text'] = response.text\n",
    "responses['get_daily_stage']['url'] = response.url"
   ]
  },
  {
   "cell_type": "code",
   "execution_count": null,
   "id": "e3295a1d-251a-45ad-9254-6f6e4812e9fa",
   "metadata": {},
   "outputs": [],
   "source": [
    "import json\n",
    "\n",
    "with open('nwis_responses_rating.json', 'w') as fp:\n",
    "    json.dump(responses, fp, indent=4)"
   ]
  },
  {
   "cell_type": "code",
   "execution_count": null,
   "id": "72302065-3509-4a74-a601-0f209fe00707",
   "metadata": {},
   "outputs": [],
   "source": [
    "# with requests_mock.Mocker() as m:\n",
    "#     m.get('https://nwis.waterdata.usgs.gov/nwis/measurements?format=rdb_expanded&site_no=10154200&begin_date=1988-10-01&end_date=2020-09-30', text=responses['get_measurements']['text'])\n",
    "#     m.get('https://nwis.waterdata.usgs.gov/nwis/measurements?format=rdb_expanded&site_no=10154200&begin_date=1988-10-01&end_date=2018-09-30', text=responses['get_measurements']['text'])\n",
    "#     x = usgs.get_measurements(site=site, start_date=start_date, end_date='2020-09-30')\n",
    "#     y = usgs.get_measurements(site=site, start_date=start_date, end_date='2018-09-30')"
   ]
  }
 ],
 "metadata": {
  "kernelspec": {
   "display_name": "Python 3 (ipykernel)",
   "language": "python",
   "name": "python3"
  },
  "language_info": {
   "codemirror_mode": {
    "name": "ipython",
    "version": 3
   },
   "file_extension": ".py",
   "mimetype": "text/x-python",
   "name": "python",
   "nbconvert_exporter": "python",
   "pygments_lexer": "ipython3",
   "version": "3.12.4"
  }
 },
 "nbformat": 4,
 "nbformat_minor": 5
}
