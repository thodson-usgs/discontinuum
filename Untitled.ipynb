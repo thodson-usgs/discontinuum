{
 "cells": [
  {
   "cell_type": "code",
   "execution_count": null,
   "id": "3434b29e-4da9-4d2c-9ba8-387105b0e784",
   "metadata": {},
   "outputs": [],
   "source": []
  }
 ],
 "metadata": {
  "kernelspec": {
   "display_name": "discontinuum-dev",
   "language": "python",
   "name": "discontinuum-dev"
  },
  "language_info": {
   "codemirror_mode": {
    "name": "ipython",
    "version": 3
   },
   "file_extension": ".py",
   "mimetype": "text/x-python",
   "name": "python",
   "nbconvert_exporter": "python",
   "pygments_lexer": "ipython3",
   "version": "3.12.7"
  }
 },
 "nbformat": 4,
 "nbformat_minor": 5
}
