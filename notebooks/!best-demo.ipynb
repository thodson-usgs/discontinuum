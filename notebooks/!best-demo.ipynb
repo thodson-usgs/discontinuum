{
 "cells": [
  {
   "cell_type": "markdown",
   "id": "9ab6b951-1b4f-4238-902d-b9d6e5528f59",
   "metadata": {},
   "source": [
    "# GP Demo\n",
    "[![Open In Colab](https://colab.research.google.com/assets/colab-badge.svg)](https://colab.research.google.com/github/thodson-usgs/workflow-hodson-2024-loadest-gp/blob/master/demo-loadest-gp.ipynb)"
   ]
  },
  {
   "cell_type": "markdown",
   "id": "33c4ad01-30c7-45b5-a108-799cd0d2644c",
   "metadata": {},
   "source": [
    "The concentration is modeled is a function of time $t$ and the log flow $q$\n",
    "$$\n",
    "f(t, q) \\sim \\mathcal{GP}_{\\text{trend}}(0, k_1(t, t')) \n",
    "          + \\mathcal{GP}_{\\text{seasonal}}(0, k_2(t, t'))\n",
    "          + \\mathcal{GP}_{\\text{short}}(0, k_3(t, t'))\n",
    "          + \\mathcal{GP}_{\\text{flow}}(0, k_3(q, q'))\n",
    "          + \\epsilon\n",
    "$$"
   ]
  },
  {
   "cell_type": "code",
   "execution_count": 134,
   "id": "eee7c3be-bba5-427e-a081-ef75968a1a81",
   "metadata": {},
   "outputs": [
    {
     "name": "stdout",
     "output_type": "stream",
     "text": [
      "NOT in Colab\n"
     ]
    }
   ],
   "source": [
    "#setup colab\n",
    "import os\n",
    "\n",
    "if os.getenv(\"COLAB_RELEASE_TAG\"):\n",
    "   print(\"Running in Colab\")\n",
    "   os.system('pip install pymc dataretrieval')\n",
    "   os.system('MKL_THREADING_LAYER=GNU')\n",
    "    \n",
    "else:\n",
    "   print(\"NOT in Colab\")"
   ]
  },
  {
   "cell_type": "code",
   "execution_count": 135,
   "id": "720b0c00-9722-47a3-b6fd-e897ab74ee03",
   "metadata": {},
   "outputs": [
    {
     "name": "stderr",
     "output_type": "stream",
     "text": [
      "/home/thodson/miniforge3/envs/pymc/lib/python3.11/site-packages/dataretrieval/nwis.py:180: UserWarning: WARNING: Starting in March 2024, the NWIS qw data endpoint is retiring and no longer receives updates. For more information, refer to https://waterdata.usgs.gov.nwis/qwdata and https://doi-usgs.github.io/dataRetrieval/articles/Status.html or email CompTools@usgs.gov.\n",
      "  warnings.warn(('WARNING: Starting in March 2024, the NWIS qw data endpoint is '\n"
     ]
    }
   ],
   "source": [
    "# Gather discharge data:\n",
    "site = \"01491000\" #Choptank River at Greensboro, MD\n",
    "parameter_cd = \"00631\" #5 digit USGS code\n",
    "start = \"1979-10-01\"\n",
    "end = \"2011-09-30\"\n",
    "\n",
    "## Another example\n",
    "site = \"12413470\"\n",
    "parameter_cd = \"00665\"\n",
    "parameter_cd = \"00631\"\n",
    "start= \"1988-10-01\" \n",
    "end= \"2021-09-30\" \n",
    "\n",
    "from dataretrieval import nwis\n",
    "import pandas as pd\n",
    "import numpy as np\n",
    "\n",
    "daily, _ = nwis.get_dv(sites=site, start=start, end=end, parameterCd=\"00060\")\n",
    "samples, _ = nwis.get_qwdata(sites=site, start=start, end=end, parameterCd=parameter_cd)"
   ]
  },
  {
   "cell_type": "code",
   "execution_count": 136,
   "id": "91855566-0a7c-46b0-aa66-85917894249b",
   "metadata": {},
   "outputs": [],
   "source": [
    "# preprocess\n",
    "daily[\"flow\"] = daily[\"00060_Mean\"]\n",
    "daily = daily[[\"flow\"]]\n",
    "\n",
    "#daily[\"flow\"] = daily[\"flow\"] * 0.028316831998814504 # Convert to cubic meters per second\n",
    "# truncate zero flows"
   ]
  },
  {
   "cell_type": "code",
   "execution_count": 137,
   "id": "b3e3758c-0bbf-425e-859e-6c3bc7952a98",
   "metadata": {},
   "outputs": [
    {
     "data": {
      "text/html": [
       "<div><svg style=\"position: absolute; width: 0; height: 0; overflow: hidden\">\n",
       "<defs>\n",
       "<symbol id=\"icon-database\" viewBox=\"0 0 32 32\">\n",
       "<path d=\"M16 0c-8.837 0-16 2.239-16 5v4c0 2.761 7.163 5 16 5s16-2.239 16-5v-4c0-2.761-7.163-5-16-5z\"></path>\n",
       "<path d=\"M16 17c-8.837 0-16-2.239-16-5v6c0 2.761 7.163 5 16 5s16-2.239 16-5v-6c0 2.761-7.163 5-16 5z\"></path>\n",
       "<path d=\"M16 26c-8.837 0-16-2.239-16-5v6c0 2.761 7.163 5 16 5s16-2.239 16-5v-6c0 2.761-7.163 5-16 5z\"></path>\n",
       "</symbol>\n",
       "<symbol id=\"icon-file-text2\" viewBox=\"0 0 32 32\">\n",
       "<path d=\"M28.681 7.159c-0.694-0.947-1.662-2.053-2.724-3.116s-2.169-2.030-3.116-2.724c-1.612-1.182-2.393-1.319-2.841-1.319h-15.5c-1.378 0-2.5 1.121-2.5 2.5v27c0 1.378 1.122 2.5 2.5 2.5h23c1.378 0 2.5-1.122 2.5-2.5v-19.5c0-0.448-0.137-1.23-1.319-2.841zM24.543 5.457c0.959 0.959 1.712 1.825 2.268 2.543h-4.811v-4.811c0.718 0.556 1.584 1.309 2.543 2.268zM28 29.5c0 0.271-0.229 0.5-0.5 0.5h-23c-0.271 0-0.5-0.229-0.5-0.5v-27c0-0.271 0.229-0.5 0.5-0.5 0 0 15.499-0 15.5 0v7c0 0.552 0.448 1 1 1h7v19.5z\"></path>\n",
       "<path d=\"M23 26h-14c-0.552 0-1-0.448-1-1s0.448-1 1-1h14c0.552 0 1 0.448 1 1s-0.448 1-1 1z\"></path>\n",
       "<path d=\"M23 22h-14c-0.552 0-1-0.448-1-1s0.448-1 1-1h14c0.552 0 1 0.448 1 1s-0.448 1-1 1z\"></path>\n",
       "<path d=\"M23 18h-14c-0.552 0-1-0.448-1-1s0.448-1 1-1h14c0.552 0 1 0.448 1 1s-0.448 1-1 1z\"></path>\n",
       "</symbol>\n",
       "</defs>\n",
       "</svg>\n",
       "<style>/* CSS stylesheet for displaying xarray objects in jupyterlab.\n",
       " *\n",
       " */\n",
       "\n",
       ":root {\n",
       "  --xr-font-color0: var(--jp-content-font-color0, rgba(0, 0, 0, 1));\n",
       "  --xr-font-color2: var(--jp-content-font-color2, rgba(0, 0, 0, 0.54));\n",
       "  --xr-font-color3: var(--jp-content-font-color3, rgba(0, 0, 0, 0.38));\n",
       "  --xr-border-color: var(--jp-border-color2, #e0e0e0);\n",
       "  --xr-disabled-color: var(--jp-layout-color3, #bdbdbd);\n",
       "  --xr-background-color: var(--jp-layout-color0, white);\n",
       "  --xr-background-color-row-even: var(--jp-layout-color1, white);\n",
       "  --xr-background-color-row-odd: var(--jp-layout-color2, #eeeeee);\n",
       "}\n",
       "\n",
       "html[theme=dark],\n",
       "body[data-theme=dark],\n",
       "body.vscode-dark {\n",
       "  --xr-font-color0: rgba(255, 255, 255, 1);\n",
       "  --xr-font-color2: rgba(255, 255, 255, 0.54);\n",
       "  --xr-font-color3: rgba(255, 255, 255, 0.38);\n",
       "  --xr-border-color: #1F1F1F;\n",
       "  --xr-disabled-color: #515151;\n",
       "  --xr-background-color: #111111;\n",
       "  --xr-background-color-row-even: #111111;\n",
       "  --xr-background-color-row-odd: #313131;\n",
       "}\n",
       "\n",
       ".xr-wrap {\n",
       "  display: block !important;\n",
       "  min-width: 300px;\n",
       "  max-width: 700px;\n",
       "}\n",
       "\n",
       ".xr-text-repr-fallback {\n",
       "  /* fallback to plain text repr when CSS is not injected (untrusted notebook) */\n",
       "  display: none;\n",
       "}\n",
       "\n",
       ".xr-header {\n",
       "  padding-top: 6px;\n",
       "  padding-bottom: 6px;\n",
       "  margin-bottom: 4px;\n",
       "  border-bottom: solid 1px var(--xr-border-color);\n",
       "}\n",
       "\n",
       ".xr-header > div,\n",
       ".xr-header > ul {\n",
       "  display: inline;\n",
       "  margin-top: 0;\n",
       "  margin-bottom: 0;\n",
       "}\n",
       "\n",
       ".xr-obj-type,\n",
       ".xr-array-name {\n",
       "  margin-left: 2px;\n",
       "  margin-right: 10px;\n",
       "}\n",
       "\n",
       ".xr-obj-type {\n",
       "  color: var(--xr-font-color2);\n",
       "}\n",
       "\n",
       ".xr-sections {\n",
       "  padding-left: 0 !important;\n",
       "  display: grid;\n",
       "  grid-template-columns: 150px auto auto 1fr 20px 20px;\n",
       "}\n",
       "\n",
       ".xr-section-item {\n",
       "  display: contents;\n",
       "}\n",
       "\n",
       ".xr-section-item input {\n",
       "  display: none;\n",
       "}\n",
       "\n",
       ".xr-section-item input + label {\n",
       "  color: var(--xr-disabled-color);\n",
       "}\n",
       "\n",
       ".xr-section-item input:enabled + label {\n",
       "  cursor: pointer;\n",
       "  color: var(--xr-font-color2);\n",
       "}\n",
       "\n",
       ".xr-section-item input:enabled + label:hover {\n",
       "  color: var(--xr-font-color0);\n",
       "}\n",
       "\n",
       ".xr-section-summary {\n",
       "  grid-column: 1;\n",
       "  color: var(--xr-font-color2);\n",
       "  font-weight: 500;\n",
       "}\n",
       "\n",
       ".xr-section-summary > span {\n",
       "  display: inline-block;\n",
       "  padding-left: 0.5em;\n",
       "}\n",
       "\n",
       ".xr-section-summary-in:disabled + label {\n",
       "  color: var(--xr-font-color2);\n",
       "}\n",
       "\n",
       ".xr-section-summary-in + label:before {\n",
       "  display: inline-block;\n",
       "  content: '►';\n",
       "  font-size: 11px;\n",
       "  width: 15px;\n",
       "  text-align: center;\n",
       "}\n",
       "\n",
       ".xr-section-summary-in:disabled + label:before {\n",
       "  color: var(--xr-disabled-color);\n",
       "}\n",
       "\n",
       ".xr-section-summary-in:checked + label:before {\n",
       "  content: '▼';\n",
       "}\n",
       "\n",
       ".xr-section-summary-in:checked + label > span {\n",
       "  display: none;\n",
       "}\n",
       "\n",
       ".xr-section-summary,\n",
       ".xr-section-inline-details {\n",
       "  padding-top: 4px;\n",
       "  padding-bottom: 4px;\n",
       "}\n",
       "\n",
       ".xr-section-inline-details {\n",
       "  grid-column: 2 / -1;\n",
       "}\n",
       "\n",
       ".xr-section-details {\n",
       "  display: none;\n",
       "  grid-column: 1 / -1;\n",
       "  margin-bottom: 5px;\n",
       "}\n",
       "\n",
       ".xr-section-summary-in:checked ~ .xr-section-details {\n",
       "  display: contents;\n",
       "}\n",
       "\n",
       ".xr-array-wrap {\n",
       "  grid-column: 1 / -1;\n",
       "  display: grid;\n",
       "  grid-template-columns: 20px auto;\n",
       "}\n",
       "\n",
       ".xr-array-wrap > label {\n",
       "  grid-column: 1;\n",
       "  vertical-align: top;\n",
       "}\n",
       "\n",
       ".xr-preview {\n",
       "  color: var(--xr-font-color3);\n",
       "}\n",
       "\n",
       ".xr-array-preview,\n",
       ".xr-array-data {\n",
       "  padding: 0 5px !important;\n",
       "  grid-column: 2;\n",
       "}\n",
       "\n",
       ".xr-array-data,\n",
       ".xr-array-in:checked ~ .xr-array-preview {\n",
       "  display: none;\n",
       "}\n",
       "\n",
       ".xr-array-in:checked ~ .xr-array-data,\n",
       ".xr-array-preview {\n",
       "  display: inline-block;\n",
       "}\n",
       "\n",
       ".xr-dim-list {\n",
       "  display: inline-block !important;\n",
       "  list-style: none;\n",
       "  padding: 0 !important;\n",
       "  margin: 0;\n",
       "}\n",
       "\n",
       ".xr-dim-list li {\n",
       "  display: inline-block;\n",
       "  padding: 0;\n",
       "  margin: 0;\n",
       "}\n",
       "\n",
       ".xr-dim-list:before {\n",
       "  content: '(';\n",
       "}\n",
       "\n",
       ".xr-dim-list:after {\n",
       "  content: ')';\n",
       "}\n",
       "\n",
       ".xr-dim-list li:not(:last-child):after {\n",
       "  content: ',';\n",
       "  padding-right: 5px;\n",
       "}\n",
       "\n",
       ".xr-has-index {\n",
       "  font-weight: bold;\n",
       "}\n",
       "\n",
       ".xr-var-list,\n",
       ".xr-var-item {\n",
       "  display: contents;\n",
       "}\n",
       "\n",
       ".xr-var-item > div,\n",
       ".xr-var-item label,\n",
       ".xr-var-item > .xr-var-name span {\n",
       "  background-color: var(--xr-background-color-row-even);\n",
       "  margin-bottom: 0;\n",
       "}\n",
       "\n",
       ".xr-var-item > .xr-var-name:hover span {\n",
       "  padding-right: 5px;\n",
       "}\n",
       "\n",
       ".xr-var-list > li:nth-child(odd) > div,\n",
       ".xr-var-list > li:nth-child(odd) > label,\n",
       ".xr-var-list > li:nth-child(odd) > .xr-var-name span {\n",
       "  background-color: var(--xr-background-color-row-odd);\n",
       "}\n",
       "\n",
       ".xr-var-name {\n",
       "  grid-column: 1;\n",
       "}\n",
       "\n",
       ".xr-var-dims {\n",
       "  grid-column: 2;\n",
       "}\n",
       "\n",
       ".xr-var-dtype {\n",
       "  grid-column: 3;\n",
       "  text-align: right;\n",
       "  color: var(--xr-font-color2);\n",
       "}\n",
       "\n",
       ".xr-var-preview {\n",
       "  grid-column: 4;\n",
       "}\n",
       "\n",
       ".xr-index-preview {\n",
       "  grid-column: 2 / 5;\n",
       "  color: var(--xr-font-color2);\n",
       "}\n",
       "\n",
       ".xr-var-name,\n",
       ".xr-var-dims,\n",
       ".xr-var-dtype,\n",
       ".xr-preview,\n",
       ".xr-attrs dt {\n",
       "  white-space: nowrap;\n",
       "  overflow: hidden;\n",
       "  text-overflow: ellipsis;\n",
       "  padding-right: 10px;\n",
       "}\n",
       "\n",
       ".xr-var-name:hover,\n",
       ".xr-var-dims:hover,\n",
       ".xr-var-dtype:hover,\n",
       ".xr-attrs dt:hover {\n",
       "  overflow: visible;\n",
       "  width: auto;\n",
       "  z-index: 1;\n",
       "}\n",
       "\n",
       ".xr-var-attrs,\n",
       ".xr-var-data,\n",
       ".xr-index-data {\n",
       "  display: none;\n",
       "  background-color: var(--xr-background-color) !important;\n",
       "  padding-bottom: 5px !important;\n",
       "}\n",
       "\n",
       ".xr-var-attrs-in:checked ~ .xr-var-attrs,\n",
       ".xr-var-data-in:checked ~ .xr-var-data,\n",
       ".xr-index-data-in:checked ~ .xr-index-data {\n",
       "  display: block;\n",
       "}\n",
       "\n",
       ".xr-var-data > table {\n",
       "  float: right;\n",
       "}\n",
       "\n",
       ".xr-var-name span,\n",
       ".xr-var-data,\n",
       ".xr-index-name div,\n",
       ".xr-index-data,\n",
       ".xr-attrs {\n",
       "  padding-left: 25px !important;\n",
       "}\n",
       "\n",
       ".xr-attrs,\n",
       ".xr-var-attrs,\n",
       ".xr-var-data,\n",
       ".xr-index-data {\n",
       "  grid-column: 1 / -1;\n",
       "}\n",
       "\n",
       "dl.xr-attrs {\n",
       "  padding: 0;\n",
       "  margin: 0;\n",
       "  display: grid;\n",
       "  grid-template-columns: 125px auto;\n",
       "}\n",
       "\n",
       ".xr-attrs dt,\n",
       ".xr-attrs dd {\n",
       "  padding: 0;\n",
       "  margin: 0;\n",
       "  float: left;\n",
       "  padding-right: 10px;\n",
       "  width: auto;\n",
       "}\n",
       "\n",
       ".xr-attrs dt {\n",
       "  font-weight: normal;\n",
       "  grid-column: 1;\n",
       "}\n",
       "\n",
       ".xr-attrs dt:hover span {\n",
       "  display: inline-block;\n",
       "  background: var(--xr-background-color);\n",
       "  padding-right: 10px;\n",
       "}\n",
       "\n",
       ".xr-attrs dd {\n",
       "  grid-column: 2;\n",
       "  white-space: pre-wrap;\n",
       "  word-break: break-all;\n",
       "}\n",
       "\n",
       ".xr-icon-database,\n",
       ".xr-icon-file-text2,\n",
       ".xr-no-icon {\n",
       "  display: inline-block;\n",
       "  vertical-align: middle;\n",
       "  width: 1em;\n",
       "  height: 1.5em !important;\n",
       "  stroke-width: 0;\n",
       "  stroke: currentColor;\n",
       "  fill: currentColor;\n",
       "}\n",
       "</style><pre class='xr-text-repr-fallback'>&lt;xarray.Dataset&gt; Size: 193kB\n",
       "Dimensions:   (datetime: 12053)\n",
       "Coordinates:\n",
       "  * datetime  (datetime) object 96kB 591667200000000000 ... 1632960000000000000\n",
       "Data variables:\n",
       "    flow      (datetime) float64 96kB 76.0 73.0 73.0 75.0 ... 104.0 118.0 102.0</pre><div class='xr-wrap' style='display:none'><div class='xr-header'><div class='xr-obj-type'>xarray.Dataset</div></div><ul class='xr-sections'><li class='xr-section-item'><input id='section-c99f3815-5eb0-4b96-a783-8678f8555e81' class='xr-section-summary-in' type='checkbox' disabled ><label for='section-c99f3815-5eb0-4b96-a783-8678f8555e81' class='xr-section-summary'  title='Expand/collapse section'>Dimensions:</label><div class='xr-section-inline-details'><ul class='xr-dim-list'><li><span class='xr-has-index'>datetime</span>: 12053</li></ul></div><div class='xr-section-details'></div></li><li class='xr-section-item'><input id='section-596ef4f9-1f0e-4009-b9d4-acdaff80be38' class='xr-section-summary-in' type='checkbox'  checked><label for='section-596ef4f9-1f0e-4009-b9d4-acdaff80be38' class='xr-section-summary' >Coordinates: <span>(1)</span></label><div class='xr-section-inline-details'></div><div class='xr-section-details'><ul class='xr-var-list'><li class='xr-var-item'><div class='xr-var-name'><span class='xr-has-index'>datetime</span></div><div class='xr-var-dims'>(datetime)</div><div class='xr-var-dtype'>object</div><div class='xr-var-preview xr-preview'>591667200000000000 ... 163296000...</div><input id='attrs-6e2a4e69-ca40-4d1c-9ad1-0e3c57d50503' class='xr-var-attrs-in' type='checkbox' disabled><label for='attrs-6e2a4e69-ca40-4d1c-9ad1-0e3c57d50503' title='Show/Hide attributes'><svg class='icon xr-icon-file-text2'><use xlink:href='#icon-file-text2'></use></svg></label><input id='data-b6c01a72-1f09-4cd4-b595-fc9036f18b93' class='xr-var-data-in' type='checkbox'><label for='data-b6c01a72-1f09-4cd4-b595-fc9036f18b93' title='Show/Hide data repr'><svg class='icon xr-icon-database'><use xlink:href='#icon-database'></use></svg></label><div class='xr-var-attrs'><dl class='xr-attrs'></dl></div><div class='xr-var-data'><pre>array([591667200000000000, 591753600000000000, 591840000000000000, ...,\n",
       "       1632787200000000000, 1632873600000000000, 1632960000000000000],\n",
       "      dtype=object)</pre></div></li></ul></div></li><li class='xr-section-item'><input id='section-a5631ac1-af12-49f8-bd36-7c3b71d9648f' class='xr-section-summary-in' type='checkbox'  checked><label for='section-a5631ac1-af12-49f8-bd36-7c3b71d9648f' class='xr-section-summary' >Data variables: <span>(1)</span></label><div class='xr-section-inline-details'></div><div class='xr-section-details'><ul class='xr-var-list'><li class='xr-var-item'><div class='xr-var-name'><span>flow</span></div><div class='xr-var-dims'>(datetime)</div><div class='xr-var-dtype'>float64</div><div class='xr-var-preview xr-preview'>76.0 73.0 73.0 ... 118.0 102.0</div><input id='attrs-61f0bad0-c19e-4b29-b4eb-09faf58306ce' class='xr-var-attrs-in' type='checkbox' disabled><label for='attrs-61f0bad0-c19e-4b29-b4eb-09faf58306ce' title='Show/Hide attributes'><svg class='icon xr-icon-file-text2'><use xlink:href='#icon-file-text2'></use></svg></label><input id='data-9c5f6c15-2871-4c53-83ec-2ba3514f1fad' class='xr-var-data-in' type='checkbox'><label for='data-9c5f6c15-2871-4c53-83ec-2ba3514f1fad' title='Show/Hide data repr'><svg class='icon xr-icon-database'><use xlink:href='#icon-database'></use></svg></label><div class='xr-var-attrs'><dl class='xr-attrs'></dl></div><div class='xr-var-data'><pre>array([ 76.,  73.,  73., ..., 104., 118., 102.])</pre></div></li></ul></div></li><li class='xr-section-item'><input id='section-70878a42-2426-4d1c-af04-d9ed4d92a06d' class='xr-section-summary-in' type='checkbox'  ><label for='section-70878a42-2426-4d1c-af04-d9ed4d92a06d' class='xr-section-summary' >Indexes: <span>(1)</span></label><div class='xr-section-inline-details'></div><div class='xr-section-details'><ul class='xr-var-list'><li class='xr-var-item'><div class='xr-index-name'><div>datetime</div></div><div class='xr-index-preview'>PandasIndex</div><div></div><input id='index-bd56acb8-ef96-495b-8b13-8fa06f1b4074' class='xr-index-data-in' type='checkbox'/><label for='index-bd56acb8-ef96-495b-8b13-8fa06f1b4074' title='Show/Hide index repr'><svg class='icon xr-icon-database'><use xlink:href='#icon-database'></use></svg></label><div class='xr-index-data'><pre>PandasIndex(DatetimeIndex([&#x27;1988-10-01 00:00:00+00:00&#x27;, &#x27;1988-10-02 00:00:00+00:00&#x27;,\n",
       "               &#x27;1988-10-03 00:00:00+00:00&#x27;, &#x27;1988-10-04 00:00:00+00:00&#x27;,\n",
       "               &#x27;1988-10-05 00:00:00+00:00&#x27;, &#x27;1988-10-06 00:00:00+00:00&#x27;,\n",
       "               &#x27;1988-10-07 00:00:00+00:00&#x27;, &#x27;1988-10-08 00:00:00+00:00&#x27;,\n",
       "               &#x27;1988-10-09 00:00:00+00:00&#x27;, &#x27;1988-10-10 00:00:00+00:00&#x27;,\n",
       "               ...\n",
       "               &#x27;2021-09-21 00:00:00+00:00&#x27;, &#x27;2021-09-22 00:00:00+00:00&#x27;,\n",
       "               &#x27;2021-09-23 00:00:00+00:00&#x27;, &#x27;2021-09-24 00:00:00+00:00&#x27;,\n",
       "               &#x27;2021-09-25 00:00:00+00:00&#x27;, &#x27;2021-09-26 00:00:00+00:00&#x27;,\n",
       "               &#x27;2021-09-27 00:00:00+00:00&#x27;, &#x27;2021-09-28 00:00:00+00:00&#x27;,\n",
       "               &#x27;2021-09-29 00:00:00+00:00&#x27;, &#x27;2021-09-30 00:00:00+00:00&#x27;],\n",
       "              dtype=&#x27;datetime64[ns, UTC]&#x27;, name=&#x27;datetime&#x27;, length=12053, freq=None))</pre></div></li></ul></div></li><li class='xr-section-item'><input id='section-3c2ba62a-1f50-4555-899b-e3694b7cebf8' class='xr-section-summary-in' type='checkbox' disabled ><label for='section-3c2ba62a-1f50-4555-899b-e3694b7cebf8' class='xr-section-summary'  title='Expand/collapse section'>Attributes: <span>(0)</span></label><div class='xr-section-inline-details'></div><div class='xr-section-details'><dl class='xr-attrs'></dl></div></li></ul></div></div>"
      ],
      "text/plain": [
       "<xarray.Dataset> Size: 193kB\n",
       "Dimensions:   (datetime: 12053)\n",
       "Coordinates:\n",
       "  * datetime  (datetime) object 96kB 591667200000000000 ... 1632960000000000000\n",
       "Data variables:\n",
       "    flow      (datetime) float64 96kB 76.0 73.0 73.0 75.0 ... 104.0 118.0 102.0"
      ]
     },
     "execution_count": 137,
     "metadata": {},
     "output_type": "execute_result"
    }
   ],
   "source": [
    "import xarray as xr\n",
    "df = daily.reset_index()\n",
    "df['datetime'] = pd.to_datetime(df['datetime'])\n",
    "df = df.set_index('datetime')\n",
    "ds = xr.Dataset.from_dataframe(df)\n",
    "ds"
   ]
  },
  {
   "cell_type": "code",
   "execution_count": null,
   "id": "ac3f3a83-32dc-4e16-8aa0-061b3c516a9c",
   "metadata": {},
   "outputs": [],
   "source": []
  },
  {
   "cell_type": "code",
   "execution_count": 138,
   "id": "9f204069-a750-44e7-b96c-ff5a80f7950d",
   "metadata": {},
   "outputs": [],
   "source": [
    "pcode = \"p\" + parameter_cd\n",
    "samples[\"concentration\"] = samples[pcode]\n",
    "samples = samples[[\"concentration\"]]\n",
    "samples['concentration'] = samples['concentration'].str.extract('(\\d+.\\d+)', expand=False).astype(float)\n",
    "\n",
    "# aggregate samples to daily\n",
    "samples = samples['concentration'].groupby(samples.index.date).mean()\n",
    "#samples = samples.resample('D').mean()\n",
    "# convert samples.index to datetime index\n",
    "samples.index = pd.to_datetime(samples.index, utc=True)\n",
    "\n",
    "samples = pd.merge(samples, daily, left_index=True, right_index=True)"
   ]
  },
  {
   "cell_type": "code",
   "execution_count": 139,
   "id": "d49e4439-2880-4f3b-95ae-dbbfc4ece4b2",
   "metadata": {},
   "outputs": [],
   "source": [
    "def decimal_year(time):\n",
    "    days_in_year = 365 + time.is_leap_year\n",
    "    day_of_year = time.day_of_year\n",
    "    year = time.year\n",
    "    return year + day_of_year / days_in_year"
   ]
  },
  {
   "cell_type": "code",
   "execution_count": 140,
   "id": "651b09df-b928-49e8-aa68-bda5a9118246",
   "metadata": {},
   "outputs": [],
   "source": [
    "daily['decimal_year'] = decimal_year(daily.index)\n",
    "samples['decimal_year'] = decimal_year(samples.index)"
   ]
  },
  {
   "cell_type": "code",
   "execution_count": 141,
   "id": "016c26ad-62cd-4718-a5ac-d5edcf8aa935",
   "metadata": {},
   "outputs": [],
   "source": [
    "from pandas import to_datetime"
   ]
  },
  {
   "cell_type": "code",
   "execution_count": 142,
   "id": "ef4a86e3-5dcc-4792-8373-5ebb25cb4d27",
   "metadata": {},
   "outputs": [
    {
     "data": {
      "text/html": [
       "<style>#sk-container-id-5 {\n",
       "  /* Definition of color scheme common for light and dark mode */\n",
       "  --sklearn-color-text: black;\n",
       "  --sklearn-color-line: gray;\n",
       "  /* Definition of color scheme for unfitted estimators */\n",
       "  --sklearn-color-unfitted-level-0: #fff5e6;\n",
       "  --sklearn-color-unfitted-level-1: #f6e4d2;\n",
       "  --sklearn-color-unfitted-level-2: #ffe0b3;\n",
       "  --sklearn-color-unfitted-level-3: chocolate;\n",
       "  /* Definition of color scheme for fitted estimators */\n",
       "  --sklearn-color-fitted-level-0: #f0f8ff;\n",
       "  --sklearn-color-fitted-level-1: #d4ebff;\n",
       "  --sklearn-color-fitted-level-2: #b3dbfd;\n",
       "  --sklearn-color-fitted-level-3: cornflowerblue;\n",
       "\n",
       "  /* Specific color for light theme */\n",
       "  --sklearn-color-text-on-default-background: var(--sg-text-color, var(--theme-code-foreground, var(--jp-content-font-color1, black)));\n",
       "  --sklearn-color-background: var(--sg-background-color, var(--theme-background, var(--jp-layout-color0, white)));\n",
       "  --sklearn-color-border-box: var(--sg-text-color, var(--theme-code-foreground, var(--jp-content-font-color1, black)));\n",
       "  --sklearn-color-icon: #696969;\n",
       "\n",
       "  @media (prefers-color-scheme: dark) {\n",
       "    /* Redefinition of color scheme for dark theme */\n",
       "    --sklearn-color-text-on-default-background: var(--sg-text-color, var(--theme-code-foreground, var(--jp-content-font-color1, white)));\n",
       "    --sklearn-color-background: var(--sg-background-color, var(--theme-background, var(--jp-layout-color0, #111)));\n",
       "    --sklearn-color-border-box: var(--sg-text-color, var(--theme-code-foreground, var(--jp-content-font-color1, white)));\n",
       "    --sklearn-color-icon: #878787;\n",
       "  }\n",
       "}\n",
       "\n",
       "#sk-container-id-5 {\n",
       "  color: var(--sklearn-color-text);\n",
       "}\n",
       "\n",
       "#sk-container-id-5 pre {\n",
       "  padding: 0;\n",
       "}\n",
       "\n",
       "#sk-container-id-5 input.sk-hidden--visually {\n",
       "  border: 0;\n",
       "  clip: rect(1px 1px 1px 1px);\n",
       "  clip: rect(1px, 1px, 1px, 1px);\n",
       "  height: 1px;\n",
       "  margin: -1px;\n",
       "  overflow: hidden;\n",
       "  padding: 0;\n",
       "  position: absolute;\n",
       "  width: 1px;\n",
       "}\n",
       "\n",
       "#sk-container-id-5 div.sk-dashed-wrapped {\n",
       "  border: 1px dashed var(--sklearn-color-line);\n",
       "  margin: 0 0.4em 0.5em 0.4em;\n",
       "  box-sizing: border-box;\n",
       "  padding-bottom: 0.4em;\n",
       "  background-color: var(--sklearn-color-background);\n",
       "}\n",
       "\n",
       "#sk-container-id-5 div.sk-container {\n",
       "  /* jupyter's `normalize.less` sets `[hidden] { display: none; }`\n",
       "     but bootstrap.min.css set `[hidden] { display: none !important; }`\n",
       "     so we also need the `!important` here to be able to override the\n",
       "     default hidden behavior on the sphinx rendered scikit-learn.org.\n",
       "     See: https://github.com/scikit-learn/scikit-learn/issues/21755 */\n",
       "  display: inline-block !important;\n",
       "  position: relative;\n",
       "}\n",
       "\n",
       "#sk-container-id-5 div.sk-text-repr-fallback {\n",
       "  display: none;\n",
       "}\n",
       "\n",
       "div.sk-parallel-item,\n",
       "div.sk-serial,\n",
       "div.sk-item {\n",
       "  /* draw centered vertical line to link estimators */\n",
       "  background-image: linear-gradient(var(--sklearn-color-text-on-default-background), var(--sklearn-color-text-on-default-background));\n",
       "  background-size: 2px 100%;\n",
       "  background-repeat: no-repeat;\n",
       "  background-position: center center;\n",
       "}\n",
       "\n",
       "/* Parallel-specific style estimator block */\n",
       "\n",
       "#sk-container-id-5 div.sk-parallel-item::after {\n",
       "  content: \"\";\n",
       "  width: 100%;\n",
       "  border-bottom: 2px solid var(--sklearn-color-text-on-default-background);\n",
       "  flex-grow: 1;\n",
       "}\n",
       "\n",
       "#sk-container-id-5 div.sk-parallel {\n",
       "  display: flex;\n",
       "  align-items: stretch;\n",
       "  justify-content: center;\n",
       "  background-color: var(--sklearn-color-background);\n",
       "  position: relative;\n",
       "}\n",
       "\n",
       "#sk-container-id-5 div.sk-parallel-item {\n",
       "  display: flex;\n",
       "  flex-direction: column;\n",
       "}\n",
       "\n",
       "#sk-container-id-5 div.sk-parallel-item:first-child::after {\n",
       "  align-self: flex-end;\n",
       "  width: 50%;\n",
       "}\n",
       "\n",
       "#sk-container-id-5 div.sk-parallel-item:last-child::after {\n",
       "  align-self: flex-start;\n",
       "  width: 50%;\n",
       "}\n",
       "\n",
       "#sk-container-id-5 div.sk-parallel-item:only-child::after {\n",
       "  width: 0;\n",
       "}\n",
       "\n",
       "/* Serial-specific style estimator block */\n",
       "\n",
       "#sk-container-id-5 div.sk-serial {\n",
       "  display: flex;\n",
       "  flex-direction: column;\n",
       "  align-items: center;\n",
       "  background-color: var(--sklearn-color-background);\n",
       "  padding-right: 1em;\n",
       "  padding-left: 1em;\n",
       "}\n",
       "\n",
       "\n",
       "/* Toggleable style: style used for estimator/Pipeline/ColumnTransformer box that is\n",
       "clickable and can be expanded/collapsed.\n",
       "- Pipeline and ColumnTransformer use this feature and define the default style\n",
       "- Estimators will overwrite some part of the style using the `sk-estimator` class\n",
       "*/\n",
       "\n",
       "/* Pipeline and ColumnTransformer style (default) */\n",
       "\n",
       "#sk-container-id-5 div.sk-toggleable {\n",
       "  /* Default theme specific background. It is overwritten whether we have a\n",
       "  specific estimator or a Pipeline/ColumnTransformer */\n",
       "  background-color: var(--sklearn-color-background);\n",
       "}\n",
       "\n",
       "/* Toggleable label */\n",
       "#sk-container-id-5 label.sk-toggleable__label {\n",
       "  cursor: pointer;\n",
       "  display: block;\n",
       "  width: 100%;\n",
       "  margin-bottom: 0;\n",
       "  padding: 0.5em;\n",
       "  box-sizing: border-box;\n",
       "  text-align: center;\n",
       "}\n",
       "\n",
       "#sk-container-id-5 label.sk-toggleable__label-arrow:before {\n",
       "  /* Arrow on the left of the label */\n",
       "  content: \"▸\";\n",
       "  float: left;\n",
       "  margin-right: 0.25em;\n",
       "  color: var(--sklearn-color-icon);\n",
       "}\n",
       "\n",
       "#sk-container-id-5 label.sk-toggleable__label-arrow:hover:before {\n",
       "  color: var(--sklearn-color-text);\n",
       "}\n",
       "\n",
       "/* Toggleable content - dropdown */\n",
       "\n",
       "#sk-container-id-5 div.sk-toggleable__content {\n",
       "  max-height: 0;\n",
       "  max-width: 0;\n",
       "  overflow: hidden;\n",
       "  text-align: left;\n",
       "  /* unfitted */\n",
       "  background-color: var(--sklearn-color-unfitted-level-0);\n",
       "}\n",
       "\n",
       "#sk-container-id-5 div.sk-toggleable__content.fitted {\n",
       "  /* fitted */\n",
       "  background-color: var(--sklearn-color-fitted-level-0);\n",
       "}\n",
       "\n",
       "#sk-container-id-5 div.sk-toggleable__content pre {\n",
       "  margin: 0.2em;\n",
       "  border-radius: 0.25em;\n",
       "  color: var(--sklearn-color-text);\n",
       "  /* unfitted */\n",
       "  background-color: var(--sklearn-color-unfitted-level-0);\n",
       "}\n",
       "\n",
       "#sk-container-id-5 div.sk-toggleable__content.fitted pre {\n",
       "  /* unfitted */\n",
       "  background-color: var(--sklearn-color-fitted-level-0);\n",
       "}\n",
       "\n",
       "#sk-container-id-5 input.sk-toggleable__control:checked~div.sk-toggleable__content {\n",
       "  /* Expand drop-down */\n",
       "  max-height: 200px;\n",
       "  max-width: 100%;\n",
       "  overflow: auto;\n",
       "}\n",
       "\n",
       "#sk-container-id-5 input.sk-toggleable__control:checked~label.sk-toggleable__label-arrow:before {\n",
       "  content: \"▾\";\n",
       "}\n",
       "\n",
       "/* Pipeline/ColumnTransformer-specific style */\n",
       "\n",
       "#sk-container-id-5 div.sk-label input.sk-toggleable__control:checked~label.sk-toggleable__label {\n",
       "  color: var(--sklearn-color-text);\n",
       "  background-color: var(--sklearn-color-unfitted-level-2);\n",
       "}\n",
       "\n",
       "#sk-container-id-5 div.sk-label.fitted input.sk-toggleable__control:checked~label.sk-toggleable__label {\n",
       "  background-color: var(--sklearn-color-fitted-level-2);\n",
       "}\n",
       "\n",
       "/* Estimator-specific style */\n",
       "\n",
       "/* Colorize estimator box */\n",
       "#sk-container-id-5 div.sk-estimator input.sk-toggleable__control:checked~label.sk-toggleable__label {\n",
       "  /* unfitted */\n",
       "  background-color: var(--sklearn-color-unfitted-level-2);\n",
       "}\n",
       "\n",
       "#sk-container-id-5 div.sk-estimator.fitted input.sk-toggleable__control:checked~label.sk-toggleable__label {\n",
       "  /* fitted */\n",
       "  background-color: var(--sklearn-color-fitted-level-2);\n",
       "}\n",
       "\n",
       "#sk-container-id-5 div.sk-label label.sk-toggleable__label,\n",
       "#sk-container-id-5 div.sk-label label {\n",
       "  /* The background is the default theme color */\n",
       "  color: var(--sklearn-color-text-on-default-background);\n",
       "}\n",
       "\n",
       "/* On hover, darken the color of the background */\n",
       "#sk-container-id-5 div.sk-label:hover label.sk-toggleable__label {\n",
       "  color: var(--sklearn-color-text);\n",
       "  background-color: var(--sklearn-color-unfitted-level-2);\n",
       "}\n",
       "\n",
       "/* Label box, darken color on hover, fitted */\n",
       "#sk-container-id-5 div.sk-label.fitted:hover label.sk-toggleable__label.fitted {\n",
       "  color: var(--sklearn-color-text);\n",
       "  background-color: var(--sklearn-color-fitted-level-2);\n",
       "}\n",
       "\n",
       "/* Estimator label */\n",
       "\n",
       "#sk-container-id-5 div.sk-label label {\n",
       "  font-family: monospace;\n",
       "  font-weight: bold;\n",
       "  display: inline-block;\n",
       "  line-height: 1.2em;\n",
       "}\n",
       "\n",
       "#sk-container-id-5 div.sk-label-container {\n",
       "  text-align: center;\n",
       "}\n",
       "\n",
       "/* Estimator-specific */\n",
       "#sk-container-id-5 div.sk-estimator {\n",
       "  font-family: monospace;\n",
       "  border: 1px dotted var(--sklearn-color-border-box);\n",
       "  border-radius: 0.25em;\n",
       "  box-sizing: border-box;\n",
       "  margin-bottom: 0.5em;\n",
       "  /* unfitted */\n",
       "  background-color: var(--sklearn-color-unfitted-level-0);\n",
       "}\n",
       "\n",
       "#sk-container-id-5 div.sk-estimator.fitted {\n",
       "  /* fitted */\n",
       "  background-color: var(--sklearn-color-fitted-level-0);\n",
       "}\n",
       "\n",
       "/* on hover */\n",
       "#sk-container-id-5 div.sk-estimator:hover {\n",
       "  /* unfitted */\n",
       "  background-color: var(--sklearn-color-unfitted-level-2);\n",
       "}\n",
       "\n",
       "#sk-container-id-5 div.sk-estimator.fitted:hover {\n",
       "  /* fitted */\n",
       "  background-color: var(--sklearn-color-fitted-level-2);\n",
       "}\n",
       "\n",
       "/* Specification for estimator info (e.g. \"i\" and \"?\") */\n",
       "\n",
       "/* Common style for \"i\" and \"?\" */\n",
       "\n",
       ".sk-estimator-doc-link,\n",
       "a:link.sk-estimator-doc-link,\n",
       "a:visited.sk-estimator-doc-link {\n",
       "  float: right;\n",
       "  font-size: smaller;\n",
       "  line-height: 1em;\n",
       "  font-family: monospace;\n",
       "  background-color: var(--sklearn-color-background);\n",
       "  border-radius: 1em;\n",
       "  height: 1em;\n",
       "  width: 1em;\n",
       "  text-decoration: none !important;\n",
       "  margin-left: 1ex;\n",
       "  /* unfitted */\n",
       "  border: var(--sklearn-color-unfitted-level-1) 1pt solid;\n",
       "  color: var(--sklearn-color-unfitted-level-1);\n",
       "}\n",
       "\n",
       ".sk-estimator-doc-link.fitted,\n",
       "a:link.sk-estimator-doc-link.fitted,\n",
       "a:visited.sk-estimator-doc-link.fitted {\n",
       "  /* fitted */\n",
       "  border: var(--sklearn-color-fitted-level-1) 1pt solid;\n",
       "  color: var(--sklearn-color-fitted-level-1);\n",
       "}\n",
       "\n",
       "/* On hover */\n",
       "div.sk-estimator:hover .sk-estimator-doc-link:hover,\n",
       ".sk-estimator-doc-link:hover,\n",
       "div.sk-label-container:hover .sk-estimator-doc-link:hover,\n",
       ".sk-estimator-doc-link:hover {\n",
       "  /* unfitted */\n",
       "  background-color: var(--sklearn-color-unfitted-level-3);\n",
       "  color: var(--sklearn-color-background);\n",
       "  text-decoration: none;\n",
       "}\n",
       "\n",
       "div.sk-estimator.fitted:hover .sk-estimator-doc-link.fitted:hover,\n",
       ".sk-estimator-doc-link.fitted:hover,\n",
       "div.sk-label-container:hover .sk-estimator-doc-link.fitted:hover,\n",
       ".sk-estimator-doc-link.fitted:hover {\n",
       "  /* fitted */\n",
       "  background-color: var(--sklearn-color-fitted-level-3);\n",
       "  color: var(--sklearn-color-background);\n",
       "  text-decoration: none;\n",
       "}\n",
       "\n",
       "/* Span, style for the box shown on hovering the info icon */\n",
       ".sk-estimator-doc-link span {\n",
       "  display: none;\n",
       "  z-index: 9999;\n",
       "  position: relative;\n",
       "  font-weight: normal;\n",
       "  right: .2ex;\n",
       "  padding: .5ex;\n",
       "  margin: .5ex;\n",
       "  width: min-content;\n",
       "  min-width: 20ex;\n",
       "  max-width: 50ex;\n",
       "  color: var(--sklearn-color-text);\n",
       "  box-shadow: 2pt 2pt 4pt #999;\n",
       "  /* unfitted */\n",
       "  background: var(--sklearn-color-unfitted-level-0);\n",
       "  border: .5pt solid var(--sklearn-color-unfitted-level-3);\n",
       "}\n",
       "\n",
       ".sk-estimator-doc-link.fitted span {\n",
       "  /* fitted */\n",
       "  background: var(--sklearn-color-fitted-level-0);\n",
       "  border: var(--sklearn-color-fitted-level-3);\n",
       "}\n",
       "\n",
       ".sk-estimator-doc-link:hover span {\n",
       "  display: block;\n",
       "}\n",
       "\n",
       "/* \"?\"-specific style due to the `<a>` HTML tag */\n",
       "\n",
       "#sk-container-id-5 a.estimator_doc_link {\n",
       "  float: right;\n",
       "  font-size: 1rem;\n",
       "  line-height: 1em;\n",
       "  font-family: monospace;\n",
       "  background-color: var(--sklearn-color-background);\n",
       "  border-radius: 1rem;\n",
       "  height: 1rem;\n",
       "  width: 1rem;\n",
       "  text-decoration: none;\n",
       "  /* unfitted */\n",
       "  color: var(--sklearn-color-unfitted-level-1);\n",
       "  border: var(--sklearn-color-unfitted-level-1) 1pt solid;\n",
       "}\n",
       "\n",
       "#sk-container-id-5 a.estimator_doc_link.fitted {\n",
       "  /* fitted */\n",
       "  border: var(--sklearn-color-fitted-level-1) 1pt solid;\n",
       "  color: var(--sklearn-color-fitted-level-1);\n",
       "}\n",
       "\n",
       "/* On hover */\n",
       "#sk-container-id-5 a.estimator_doc_link:hover {\n",
       "  /* unfitted */\n",
       "  background-color: var(--sklearn-color-unfitted-level-3);\n",
       "  color: var(--sklearn-color-background);\n",
       "  text-decoration: none;\n",
       "}\n",
       "\n",
       "#sk-container-id-5 a.estimator_doc_link.fitted:hover {\n",
       "  /* fitted */\n",
       "  background-color: var(--sklearn-color-fitted-level-3);\n",
       "}\n",
       "</style><div id=\"sk-container-id-5\" class=\"sk-top-container\"><div class=\"sk-text-repr-fallback\"><pre>Pipeline(steps=[(&#x27;scaler&#x27;, StandardScaler(with_mean=False)),\n",
       "                (&#x27;square&#x27;,\n",
       "                 FunctionTransformer(func=&lt;ufunc &#x27;square&#x27;&gt;,\n",
       "                                     inverse_func=&lt;ufunc &#x27;sqrt&#x27;&gt;))])</pre><b>In a Jupyter environment, please rerun this cell to show the HTML representation or trust the notebook. <br />On GitHub, the HTML representation is unable to render, please try loading this page with nbviewer.org.</b></div><div class=\"sk-container\" hidden><div class=\"sk-item sk-dashed-wrapped\"><div class=\"sk-label-container\"><div class=\"sk-label fitted sk-toggleable\"><input class=\"sk-toggleable__control sk-hidden--visually\" id=\"sk-estimator-id-13\" type=\"checkbox\" ><label for=\"sk-estimator-id-13\" class=\"sk-toggleable__label fitted sk-toggleable__label-arrow fitted\">&nbsp;&nbsp;Pipeline<a class=\"sk-estimator-doc-link fitted\" rel=\"noreferrer\" target=\"_blank\" href=\"https://scikit-learn.org/1.4/modules/generated/sklearn.pipeline.Pipeline.html\">?<span>Documentation for Pipeline</span></a><span class=\"sk-estimator-doc-link fitted\">i<span>Fitted</span></span></label><div class=\"sk-toggleable__content fitted\"><pre>Pipeline(steps=[(&#x27;scaler&#x27;, StandardScaler(with_mean=False)),\n",
       "                (&#x27;square&#x27;,\n",
       "                 FunctionTransformer(func=&lt;ufunc &#x27;square&#x27;&gt;,\n",
       "                                     inverse_func=&lt;ufunc &#x27;sqrt&#x27;&gt;))])</pre></div> </div></div><div class=\"sk-serial\"><div class=\"sk-item\"><div class=\"sk-estimator fitted sk-toggleable\"><input class=\"sk-toggleable__control sk-hidden--visually\" id=\"sk-estimator-id-14\" type=\"checkbox\" ><label for=\"sk-estimator-id-14\" class=\"sk-toggleable__label fitted sk-toggleable__label-arrow fitted\">&nbsp;StandardScaler<a class=\"sk-estimator-doc-link fitted\" rel=\"noreferrer\" target=\"_blank\" href=\"https://scikit-learn.org/1.4/modules/generated/sklearn.preprocessing.StandardScaler.html\">?<span>Documentation for StandardScaler</span></a></label><div class=\"sk-toggleable__content fitted\"><pre>StandardScaler(with_mean=False)</pre></div> </div></div><div class=\"sk-item\"><div class=\"sk-estimator fitted sk-toggleable\"><input class=\"sk-toggleable__control sk-hidden--visually\" id=\"sk-estimator-id-15\" type=\"checkbox\" ><label for=\"sk-estimator-id-15\" class=\"sk-toggleable__label fitted sk-toggleable__label-arrow fitted\">&nbsp;FunctionTransformer<a class=\"sk-estimator-doc-link fitted\" rel=\"noreferrer\" target=\"_blank\" href=\"https://scikit-learn.org/1.4/modules/generated/sklearn.preprocessing.FunctionTransformer.html\">?<span>Documentation for FunctionTransformer</span></a></label><div class=\"sk-toggleable__content fitted\"><pre>FunctionTransformer(func=&lt;ufunc &#x27;square&#x27;&gt;, inverse_func=&lt;ufunc &#x27;sqrt&#x27;&gt;)</pre></div> </div></div></div></div></div></div>"
      ],
      "text/plain": [
       "Pipeline(steps=[('scaler', StandardScaler(with_mean=False)),\n",
       "                ('square',\n",
       "                 FunctionTransformer(func=<ufunc 'square'>,\n",
       "                                     inverse_func=<ufunc 'sqrt'>))])"
      ]
     },
     "execution_count": 142,
     "metadata": {},
     "output_type": "execute_result"
    }
   ],
   "source": [
    "\n",
    "from sklearn.pipeline import Pipeline\n",
    "from sklearn.preprocessing import FunctionTransformer, StandardScaler\n",
    "\n",
    "zero_clip = lambda a: np.clip(a, a_min=0, a_max=None)\n",
    "log_clip = lambda a: np.clip(a, a_min=0.1, a_max=None)\n",
    "\n",
    "flow_pipeline = Pipeline(\n",
    "    steps=[\n",
    "        (\"clip\", FunctionTransformer(func=log_clip)),\n",
    "        (\"log\", FunctionTransformer(func=np.log, inverse_func=np.exp)),\n",
    "        (\"scaler\", StandardScaler()),\n",
    "    ]\n",
    ")\n",
    "\n",
    "\n",
    "target_pipeline = Pipeline(\n",
    "    steps=[\n",
    "        (\"clip\", FunctionTransformer(func=zero_clip, inverse_func=zero_clip)),\n",
    "        (\"log\", FunctionTransformer(func=np.log, inverse_func=np.exp)),\n",
    "        (\"scaler\", StandardScaler()),\n",
    "    ]\n",
    ")\n",
    "\n",
    "target_cov_pipeline = Pipeline(\n",
    "    steps=[\n",
    "        (\"scaler\", StandardScaler(with_mean=False)),\n",
    "        (\"square\", FunctionTransformer(func=np.square, inverse_func=np.sqrt)),\n",
    "    ]\n",
    ")\n",
    "\n",
    "flow_pipeline.fit(samples['flow'].values.reshape(-1, 1))\n",
    "target_pipeline.fit(samples['concentration'].values.reshape(-1, 1))\n",
    "target_cov_pipeline.fit(samples['concentration'].values.reshape(-1, 1))"
   ]
  },
  {
   "cell_type": "code",
   "execution_count": 143,
   "id": "504b7927-3b83-4e39-a6b5-b4291d9485c6",
   "metadata": {},
   "outputs": [],
   "source": [
    "# build design matrix\n",
    "\n",
    "flow_z = flow_pipeline.transform(samples['flow'].values.reshape(-1, 1))\n",
    "#flow_test = flow_pipeline.inverse_transform(flow_z)\n",
    "target_z = target_pipeline.transform(samples['concentration'].values.reshape(-1, 1))\n",
    "\n",
    "time = samples['decimal_year']\n",
    "\n",
    "X = np.c_[flow_z, time]\n",
    "y = target_z.flatten()"
   ]
  },
  {
   "cell_type": "code",
   "execution_count": 144,
   "id": "a8e22852-3967-4b92-a41c-a1572486c2fa",
   "metadata": {},
   "outputs": [],
   "source": [
    "Xnew = np.c_[\n",
    "    flow_pipeline.transform(daily['flow'].values.reshape(-1, 1)),\n",
    "    daily['decimal_year'],\n",
    "]"
   ]
  },
  {
   "cell_type": "code",
   "execution_count": 145,
   "id": "ecf575b7-3a56-42be-9332-b547f8aec03b",
   "metadata": {},
   "outputs": [],
   "source": [
    "import pymc as pm\n",
    "\n",
    "with pm.Model() as model:\n",
    "    # seasonal trend\n",
    "    eta_per = pm.HalfNormal(\"eta_per\", sigma=1, initval=1) # was 2\n",
    "    ls_pdecay = pm.LogNormal(\"ls_pdecay\", mu=2, sigma=1)\n",
    "    # https://peterroelants.github.io/posts/gaussian-process-kernels/\n",
    "    period = pm.Normal(\"period\", mu=1, sigma=0.05)\n",
    "    ls_psmooth = pm.LogNormal(\"ls_psmooth\", mu=1, sigma=1) #14 sec at 0,0.5\n",
    "    \n",
    "    cov_seasonal = (\n",
    "        eta_per**2 * pm.gp.cov.Periodic(2, period, ls_psmooth, active_dims=[1]) \\\n",
    "        #* pm.gp.cov.ExpQuad(2, ls=ls_pdecay, active_dims=[1])\n",
    "        * pm.gp.cov.Matern52(2, ls_pdecay, active_dims=[1])\n",
    "    )\n",
    "    gp_seasonal = pm.gp.Marginal(cov_func=cov_seasonal)\n",
    "\n",
    "    # longterm trend\n",
    "    #eta_trend =  pm.HalfNormal(\"eta_trend\", sigma=1) # was 2\n",
    "    eta_trend = pm.Exponential(\"eta_trend\", scale=1.5) # Exponential might to limit outliers dictating a trend\n",
    "    ls_trend = pm.LogNormal(\"ls_trend\", mu=2, sigma=1)\n",
    "    cov_trend = eta_trend**2 * pm.gp.cov.ExpQuad(2, ls_trend, active_dims=[1])\n",
    "    gp_trend = pm.gp.Marginal(cov_func=cov_trend)\n",
    "    \n",
    "\n",
    "    # flow trend\n",
    "    eta_flow = pm.HalfNormal(\"eta_flow\", sigma=2) # was 2\n",
    "    ls_flow = pm.LogNormal(\"ls_flow\", mu=-1.1, sigma=1, initval=0.5)\n",
    "    cov_flow = eta_flow**2 * pm.gp.cov.ExpQuad(2, ls=ls_flow, active_dims=[0])\n",
    "    gp_flow = pm.gp.Marginal(cov_func=cov_flow)\n",
    "    \n",
    "    \n",
    "\n",
    "    # noise model\n",
    "    eta_noise = pm.Exponential(\"eta_noise\", scale=0.2) # 0.5 worked good for chop: 720 and 1:17\n",
    "    ls_noise = pm.LogNormal(\"ls_noise\", mu=-1.1, sigma=1, initval=0.1)\n",
    "    cov_noise = eta_noise**2 * pm.gp.cov.ExpQuad(2, ls_noise, active_dims=[1]) #eta=0.57\n",
    "    gp_noise = pm.gp.Marginal(cov_func=cov_noise)\n",
    "\n",
    "\n",
    "    gp = gp_trend + gp_seasonal  + gp_noise + gp_flow\n",
    "    \n",
    "    # noise_model\n",
    "    cov_measure = pm.gp.cov.WhiteNoise(0.1) # 40 seconds with  eta_noise = 0.1\n",
    "    \n",
    "    y_ = gp.marginal_likelihood(\"y\", X=X, y=y, sigma=cov_measure)"
   ]
  },
  {
   "cell_type": "code",
   "execution_count": 146,
   "id": "70243b2f-3187-496a-a5e6-2f5f5b261d7f",
   "metadata": {},
   "outputs": [
    {
     "data": {
      "application/vnd.jupyter.widget-view+json": {
       "model_id": "eddb6b0f470844789aafa608da1dcbd7",
       "version_major": 2,
       "version_minor": 0
      },
      "text/plain": [
       "Output()"
      ]
     },
     "metadata": {},
     "output_type": "display_data"
    },
    {
     "data": {
      "text/html": [
       "<pre style=\"white-space:pre;overflow-x:auto;line-height:normal;font-family:Menlo,'DejaVu Sans Mono',consolas,'Courier New',monospace\">\n",
       "</pre>\n"
      ],
      "text/plain": [
       "\n"
      ]
     },
     "metadata": {},
     "output_type": "display_data"
    },
    {
     "data": {
      "text/html": [
       "<pre style=\"white-space:pre;overflow-x:auto;line-height:normal;font-family:Menlo,'DejaVu Sans Mono',consolas,'Courier New',monospace\"></pre>\n"
      ],
      "text/plain": []
     },
     "metadata": {},
     "output_type": "display_data"
    },
    {
     "data": {
      "text/html": [
       "<pre style=\"white-space:pre;overflow-x:auto;line-height:normal;font-family:Menlo,'DejaVu Sans Mono',consolas,'Courier New',monospace\">\n",
       "</pre>\n"
      ],
      "text/plain": [
       "\n"
      ]
     },
     "metadata": {},
     "output_type": "display_data"
    },
    {
     "name": "stdout",
     "output_type": "stream",
     "text": [
      "CPU times: user 1min 21s, sys: 1.61 s, total: 1min 23s\n",
      "Wall time: 11.4 s\n"
     ]
    }
   ],
   "source": [
    "with model:\n",
    "    %time mp = pm.find_MAP(method=\"BFGS\") #750 at 2 min #at eta_noise 0.1 was 1.37 and 725"
   ]
  },
  {
   "cell_type": "code",
   "execution_count": 133,
   "id": "23fa3e2e-b3dd-4669-a81c-06449806699e",
   "metadata": {},
   "outputs": [
    {
     "data": {
      "text/plain": [
       "{'eta_per_log__': array(-0.27585314),\n",
       " 'ls_pdecay_log__': array(1.38993811),\n",
       " 'period': array(1.03907807),\n",
       " 'ls_psmooth_log__': array(-0.00653584),\n",
       " 'eta_trend_log__': array(-1.57946003),\n",
       " 'ls_trend_log__': array(2.18323234),\n",
       " 'eta_flow_log__': array(-0.61745564),\n",
       " 'ls_flow_log__': array(-0.94831929),\n",
       " 'eta_noise_log__': array(-0.26957525),\n",
       " 'ls_noise_log__': array(-4.53262727),\n",
       " 'eta_per': array(0.75892438),\n",
       " 'ls_pdecay': array(4.0146016),\n",
       " 'ls_psmooth': array(0.99348548),\n",
       " 'eta_trend': array(0.20608635),\n",
       " 'ls_trend': array(8.87494682),\n",
       " 'eta_flow': array(0.5393149),\n",
       " 'ls_flow': array(0.38739157),\n",
       " 'eta_noise': array(0.76370381),\n",
       " 'ls_noise': array(0.01075239)}"
      ]
     },
     "execution_count": 133,
     "metadata": {},
     "output_type": "execute_result"
    }
   ],
   "source": [
    "mp"
   ]
  },
  {
   "cell_type": "code",
   "execution_count": 122,
   "id": "88121974-1d6e-4db3-9f27-767ce6135321",
   "metadata": {},
   "outputs": [],
   "source": [
    "with model:\n",
    "    #f_pred = gp.conditional(\"f_pred\", Xnew=Xnew)\n",
    "    mu, cov = gp.predict(Xnew, point=mp, diag=True, pred_noise=True)"
   ]
  },
  {
   "cell_type": "code",
   "execution_count": null,
   "id": "aacaeada-352d-45ea-8dca-a51fc57eba49",
   "metadata": {},
   "outputs": [],
   "source": []
  },
  {
   "cell_type": "code",
   "execution_count": 123,
   "id": "35611536-1bbd-4841-a9a6-0232f043e9d4",
   "metadata": {},
   "outputs": [
    {
     "data": {
      "text/plain": [
       "[<matplotlib.lines.Line2D at 0x7f3fca6b8390>]"
      ]
     },
     "execution_count": 123,
     "metadata": {},
     "output_type": "execute_result"
    },
    {
     "data": {
      "image/png": "[encoded data removed]",
      "text/plain": [
       "<Figure size 1200x500 with 1 Axes>"
      ]
     },
     "metadata": {},
     "output_type": "display_data"
    }
   ],
   "source": [
    "import matplotlib.pyplot as plt\n",
    "fig = plt.figure(figsize=(12, 5))\n",
    "ax = fig.gca()\n",
    "\n",
    "#ax.plot(daily.index, mu, lw=3) #np.exp(mu)\n",
    "#ax.plot(samples.index, y, \"ok\")\n",
    "c = target_pipeline.inverse_transform(mu.reshape(-1,1)).flatten()\n",
    "ci = target_cov_pipeline.inverse_transform(cov.reshape(-1,1)).flatten() * 1.96\n",
    "\n",
    "#ci = np.sqrt(cov) * 1.96\n",
    "ax.fill_between(daily.index, zero_clip(c-ci), c+ci, color='b', alpha=.1)\n",
    "\n",
    "ax.plot(daily.index, c, lw=1) #np.exp(mu)\n",
    "ax.plot(samples.index, samples['concentration'], \"ok\", ms=1)"
   ]
  },
  {
   "cell_type": "code",
   "execution_count": 124,
   "id": "07da92dd-e494-4838-b8f3-eedea49fb3fb",
   "metadata": {},
   "outputs": [
    {
     "data": {
      "text/plain": [
       "[<matplotlib.lines.Line2D at 0x7f3fbebca250>]"
      ]
     },
     "execution_count": 124,
     "metadata": {},
     "output_type": "execute_result"
    },
    {
     "data": {
      "image/png": "[encoded data removed]",
      "text/plain": [
       "<Figure size 1200x500 with 1 Axes>"
      ]
     },
     "metadata": {},
     "output_type": "display_data"
    }
   ],
   "source": [
    "import matplotlib.pyplot as plt\n",
    "fig = plt.figure(figsize=(12, 5))\n",
    "ax = fig.gca()\n",
    "\n",
    "#n = 200; s = 10\n",
    "n = 1000; s = 10\n",
    "c = target_pipeline.inverse_transform(mu.reshape(-1,1)).flatten()\n",
    "ci = target_cov_pipeline.inverse_transform(cov.reshape(-1,1)).flatten() * 1.96\n",
    "ci = ci[-n:]\n",
    "c = c[-n:]\n",
    "\n",
    "\n",
    "ax.fill_between(daily.index[-n:], c-ci, c+ci, color='b', alpha=.1)\n",
    "ax.plot(daily.index[-n:], c, lw=1) #np.exp(mu)\n",
    "ax.plot(samples.index[-s:], samples['concentration'][-s:], \"ok\", ms=1)"
   ]
  },
  {
   "cell_type": "code",
   "execution_count": 125,
   "id": "ede62d02-9297-46d5-af17-66d1c822ab77",
   "metadata": {},
   "outputs": [],
   "source": [
    "# remove specific components\n",
    "mp2 = mp.copy()\n",
    "#mp2['eta_per']=0\n",
    "#mp2['eta_trend']=0\n",
    "#mp2['eta_flow']=0\n",
    "#mp2['eta_noise']=0"
   ]
  },
  {
   "cell_type": "code",
   "execution_count": 126,
   "id": "dcc5f885-c020-45ed-b311-3618a0ceb11d",
   "metadata": {},
   "outputs": [
    {
     "data": {
      "text/plain": [
       "array(-1.54956878)"
      ]
     },
     "execution_count": 126,
     "metadata": {},
     "output_type": "execute_result"
    }
   ],
   "source": [
    "# compute grid bounds for contour plot\n",
    "q_min = samples['flow'].min().reshape(-1,1)\n",
    "q_max = samples['flow'].max().reshape(-1,1)\n",
    "\n",
    "x1_min = flow_pipeline.transform(np.array(q_min)).squeeze()\n",
    "x1_max = flow_pipeline.transform(np.array(q_max)).squeeze()\n",
    "x1_min"
   ]
  },
  {
   "cell_type": "code",
   "execution_count": 127,
   "id": "b0a5b39d-e881-4f01-bcc1-0da5337b5448",
   "metadata": {},
   "outputs": [],
   "source": [
    "#q_max = 20\n",
    "#q_min = 0.5\n",
    "#x1_min = flow_pipeline.transform(np.array(q_min).reshape(-1,1)).squeeze()\n",
    "#x1_max = flow_pipeline.transform(np.array(q_max).reshape(-1,1)).squeeze()"
   ]
  },
  {
   "cell_type": "code",
   "execution_count": null,
   "id": "a80bd3f4-8836-4fc5-8821-caedfda26de2",
   "metadata": {},
   "outputs": [],
   "source": []
  },
  {
   "cell_type": "code",
   "execution_count": 94,
   "id": "a3c7fe32-580a-4579-883d-b90376f5fe51",
   "metadata": {},
   "outputs": [],
   "source": [
    "## Choptank example\n",
    "#n1, n2 = (18, 30*12)\n",
    "#x1 = np.linspace(x1_min, x1_max, n1)\n",
    "#x2 = np.linspace(1980, 2010, n2)\n",
    "#\n",
    "## make cartesian grid out of each dimension x1 and x2\n",
    "#X_grid = pm.math.cartesian(x1[:, None], x2[:, None])"
   ]
  },
  {
   "cell_type": "code",
   "execution_count": 128,
   "id": "782f29d0-098e-48c4-b08b-222859b13701",
   "metadata": {},
   "outputs": [],
   "source": [
    "# Bobs example\n",
    "n1, n2 = (18, 32*12)\n",
    "x1 = np.linspace(x1_min, x1_max, n1)\n",
    "x2 = np.linspace(1990, 2022, n2)\n",
    "\n",
    "# make cartesian grid out of each dimension x1 and x2\n",
    "X_grid = pm.math.cartesian(x1[:, None], x2[:, None])"
   ]
  },
  {
   "cell_type": "code",
   "execution_count": 129,
   "id": "c31f42b7-7c4f-4ea4-8c95-b9367d7163cc",
   "metadata": {},
   "outputs": [],
   "source": [
    "with model:\n",
    "    #f_grid = gp.conditional(\"f_grid\", Xnew=X_grid)\n",
    "    mu, cov = gp.predict(X_grid, point=mp2, pred_noise=False)"
   ]
  },
  {
   "cell_type": "code",
   "execution_count": null,
   "id": "3132b3c9-021c-41e6-9ad7-baf5b4da79ee",
   "metadata": {},
   "outputs": [],
   "source": []
  },
  {
   "cell_type": "code",
   "execution_count": 130,
   "id": "677ac60b-4dbb-42c4-9afa-9deb806fd422",
   "metadata": {},
   "outputs": [
    {
     "data": {
      "image/png": "[encoded data removed]",
      "text/plain": [
       "<Figure size 640x480 with 2 Axes>"
      ]
     },
     "metadata": {},
     "output_type": "display_data"
    }
   ],
   "source": [
    "c = target_pipeline.inverse_transform(mu.reshape(-1,1))\n",
    "c = c.reshape(n1, n2)\n",
    "q = (flow_pipeline.inverse_transform(x1.reshape(-1,1)))\n",
    "\n",
    "fig, ax = plt.subplots()\n",
    "ax.set_yscale('log')\n",
    "X2, X1 = np.meshgrid(x2, q)\n",
    "cs = ax.contourf(X2, X1, c, cmap='magma')\n",
    "\n",
    "cbar = fig.colorbar(cs)"
   ]
  },
  {
   "cell_type": "markdown",
   "id": "c17cde7e-9e5f-4819-976b-acb9ba3c3c6f",
   "metadata": {},
   "source": [
    "# TESTING .conditional"
   ]
  },
  {
   "cell_type": "code",
   "execution_count": 106,
   "id": "29b14e1c-0d27-482e-b4db-7e0b434184f9",
   "metadata": {},
   "outputs": [],
   "source": [
    "with model:\n",
    "    #f_pred = gp.conditional(\"f_pred\", Xnew=Xnew)\n",
    "    mu, cov = gp.predict(Xnew, point=mp, diag=False, pred_noise=False)"
   ]
  },
  {
   "cell_type": "code",
   "execution_count": null,
   "id": "ced1f016-6502-48d2-aa8b-812fe3e94f8a",
   "metadata": {},
   "outputs": [],
   "source": []
  },
  {
   "cell_type": "code",
   "execution_count": 35,
   "id": "32eac141-8bfb-4eb3-b02b-0542f4a0a31a",
   "metadata": {},
   "outputs": [],
   "source": [
    "cov_year = cov[-365:,-365:] # can't simulate the whole thing so let's try one year at a time\n",
    "mu_year = mu[-365:]\n",
    "\n",
    "#sim = pm.MvNormal.dist(mu_year, cov_year)\n",
    "#from numpy import random\n",
    "rng = np.random.default_rng()\n",
    "sim = rng.multivariate_normal(mu, cov, size=1000, method='cholesky')\n",
    "\n",
    "\n",
    "c = target_pipeline.inverse_transform(sim)\n",
    "annual = c.sum(axis=1)"
   ]
  },
  {
   "cell_type": "code",
   "execution_count": 36,
   "id": "de809fb2-0385-472c-a961-3b27495c0806",
   "metadata": {},
   "outputs": [
    {
     "data": {
      "text/plain": [
       "(array([  1.,   3.,   2.,  13.,  23.,  40.,  52.,  92., 106., 118., 112.,\n",
       "        128., 104.,  76.,  54.,  41.,  18.,   8.,   6.,   3.]),\n",
       " array([ 941.3631237 ,  945.62430961,  949.88549553,  954.14668145,\n",
       "         958.40786737,  962.66905328,  966.9302392 ,  971.19142512,\n",
       "         975.45261103,  979.71379695,  983.97498287,  988.23616879,\n",
       "         992.4973547 ,  996.75854062, 1001.01972654, 1005.28091245,\n",
       "        1009.54209837, 1013.80328429, 1018.06447021, 1022.32565612,\n",
       "        1026.58684204]),\n",
       " <BarContainer object of 20 artists>)"
      ]
     },
     "execution_count": 36,
     "metadata": {},
     "output_type": "execute_result"
    },
    {
     "data": {
      "image/png": "[encoded data removed]",
      "text/plain": [
       "<Figure size 640x480 with 1 Axes>"
      ]
     },
     "metadata": {},
     "output_type": "display_data"
    }
   ],
   "source": [
    "c = target_pipeline.inverse_transform(sim)\n",
    "plt.hist(annual, bins=20)"
   ]
  },
  {
   "cell_type": "code",
   "execution_count": 112,
   "id": "3fb77ee8-948b-44bb-b517-b596d33c1d1d",
   "metadata": {},
   "outputs": [],
   "source": [
    "# now let's ignore the covariance\n",
    "with model:\n",
    "    #f_pred = gp.conditional(\"f_pred\", Xnew=Xnew)\n",
    "    mu, cov = gp.predict(Xnew, point=mp, diag=True, pred_noise=False)"
   ]
  },
  {
   "cell_type": "code",
   "execution_count": 133,
   "id": "7a80a8e4-66c6-4e7b-b4c0-72bde709dd6f",
   "metadata": {},
   "outputs": [
    {
     "data": {
      "text/plain": [
       "(365, 365)"
      ]
     },
     "execution_count": 133,
     "metadata": {},
     "output_type": "execute_result"
    }
   ],
   "source": [
    "cov_year.shape"
   ]
  },
  {
   "cell_type": "code",
   "execution_count": 135,
   "id": "de76d2ef-63b0-4f90-9201-8503cd1ed486",
   "metadata": {},
   "outputs": [],
   "source": [
    "cov_year = cov[-365:] # can't simulate the whole thing so let's try one year at a time\n",
    "mu_year = mu[-365:]\n",
    "cov_year = np.diag(cov_year)\n",
    "\n",
    "#sim = random.normal(mu_year, cov_year, size=100)\n",
    "#c = target_pipeline.inverse_transform(sim)\n",
    "#annual = c.sum(axis=1)\n",
    "sim = random.multivariate_normal(mu_year, cov_year, size=1000)\n",
    "c = target_pipeline.inverse_transform(sim)\n",
    "annual = c.sum(axis=1)"
   ]
  },
  {
   "cell_type": "code",
   "execution_count": 136,
   "id": "4a5d66e9-225a-4398-8183-751ab2079906",
   "metadata": {},
   "outputs": [
    {
     "data": {
      "text/plain": [
       "(array([  4.,   2.,   6.,  11.,  36.,  40.,  62., 109.,  91., 131., 128.,\n",
       "        112., 100.,  65.,  50.,  26.,  14.,   6.,   5.,   2.]),\n",
       " array([68.50444048, 68.79148135, 69.07852222, 69.36556309, 69.65260396,\n",
       "        69.93964483, 70.2266857 , 70.51372657, 70.80076744, 71.08780831,\n",
       "        71.37484918, 71.66189005, 71.94893092, 72.23597179, 72.52301266,\n",
       "        72.81005353, 73.0970944 , 73.38413527, 73.67117614, 73.95821701,\n",
       "        74.24525788]),\n",
       " <BarContainer object of 20 artists>)"
      ]
     },
     "execution_count": 136,
     "metadata": {},
     "output_type": "execute_result"
    },
    {
     "data": {
      "image/png": "[encoded data removed]",
      "text/plain": [
       "<Figure size 640x480 with 1 Axes>"
      ]
     },
     "metadata": {},
     "output_type": "display_data"
    }
   ],
   "source": [
    "c = target_pipeline.inverse_transform(sim)\n",
    "plt.hist(annual, bins=20)"
   ]
  },
  {
   "cell_type": "code",
   "execution_count": 24,
   "id": "b476a70b-c1c1-4ac5-b187-7fc2c2add41b",
   "metadata": {},
   "outputs": [
    {
     "data": {
      "application/vnd.jupyter.widget-view+json": {
       "model_id": "d0a469a8ece04273a54e1f478eb2b1bb",
       "version_major": 2,
       "version_minor": 0
      },
      "text/plain": [
       "Output()"
      ]
     },
     "metadata": {},
     "output_type": "display_data"
    },
    {
     "data": {
      "text/html": [
       "<pre style=\"white-space:pre;overflow-x:auto;line-height:normal;font-family:Menlo,'DejaVu Sans Mono',consolas,'Courier New',monospace\"></pre>\n"
      ],
      "text/plain": []
     },
     "metadata": {},
     "output_type": "display_data"
    },
    {
     "data": {
      "text/html": [
       "<pre style=\"white-space:pre;overflow-x:auto;line-height:normal;font-family:Menlo,'DejaVu Sans Mono',consolas,'Courier New',monospace\">\n",
       "</pre>\n"
      ],
      "text/plain": [
       "\n"
      ]
     },
     "metadata": {},
     "output_type": "display_data"
    },
    {
     "name": "stderr",
     "output_type": "stream",
     "text": [
      "Interrupted at 1,724 [17%]: Average Loss = 3,604.8\n"
     ]
    },
    {
     "data": {
      "application/vnd.jupyter.widget-view+json": {
       "model_id": "f794b52dc74f4a7f88b3b0182f022a21",
       "version_major": 2,
       "version_minor": 0
      },
      "text/plain": [
       "Output()"
      ]
     },
     "metadata": {},
     "output_type": "display_data"
    },
    {
     "data": {
      "text/html": [
       "<pre style=\"white-space:pre;overflow-x:auto;line-height:normal;font-family:Menlo,'DejaVu Sans Mono',consolas,'Courier New',monospace\"></pre>\n"
      ],
      "text/plain": []
     },
     "metadata": {},
     "output_type": "display_data"
    },
    {
     "data": {
      "text/html": [
       "<pre style=\"white-space:pre;overflow-x:auto;line-height:normal;font-family:Menlo,'DejaVu Sans Mono',consolas,'Courier New',monospace\">\n",
       "</pre>\n"
      ],
      "text/plain": [
       "\n"
      ]
     },
     "metadata": {},
     "output_type": "display_data"
    },
    {
     "name": "stderr",
     "output_type": "stream",
     "text": [
      "Interrupted at 76 [0%]: Average Loss = 4,173.1\n",
      "\n",
      "KeyboardInterrupt\n",
      "\n"
     ]
    }
   ],
   "source": [
    "with model:\n",
    "    # https://www.pymc.io/projects/examples/en/latest/gaussian_processes/GP-Marginal.html\n",
    "    #marginal_post = pm.sample(500, tune=2000, nuts_sampler=\"numpyro\", chains=1) #NEEDS A GPU\n",
    "    %timeit test = pm.fit()"
   ]
  },
  {
   "cell_type": "code",
   "execution_count": 25,
   "id": "02aa1432-a98e-4d73-8cfa-f59db7463097",
   "metadata": {},
   "outputs": [
    {
     "data": {
      "text/plain": [
       "concentration       0.005000\n",
       "flow               71.000000\n",
       "decimal_year     1989.887671\n",
       "dtype: float64"
      ]
     },
     "execution_count": 25,
     "metadata": {},
     "output_type": "execute_result"
    }
   ],
   "source": [
    "samples.min()"
   ]
  },
  {
   "cell_type": "code",
   "execution_count": 30,
   "id": "45162f16-456e-429c-a73d-a3230db4bd69",
   "metadata": {},
   "outputs": [],
   "source": [
    "\n",
    "# add the GP conditional to the model, given the new X values\n",
    "with model:\n",
    "    f_pred = gp.conditional(\"f_pred\", Xnew)"
   ]
  },
  {
   "cell_type": "code",
   "execution_count": 37,
   "id": "3a3ab344-972e-4250-8a74-e1520eeb2f78",
   "metadata": {},
   "outputs": [
    {
     "ename": "NameError",
     "evalue": "name 'marginal_post' is not defined",
     "output_type": "error",
     "traceback": [
      "\u001b[0;31m---------------------------------------------------------------------------\u001b[0m",
      "\u001b[0;31mNameError\u001b[0m                                 Traceback (most recent call last)",
      "Cell \u001b[0;32mIn[37], line 1\u001b[0m\n\u001b[0;32m----> 1\u001b[0m \u001b[43mmarginal_post\u001b[49m\u001b[38;5;241m.\u001b[39msel(draw\u001b[38;5;241m=\u001b[39m\u001b[38;5;28mslice\u001b[39m(\u001b[38;5;241m0\u001b[39m, \u001b[38;5;241m20\u001b[39m))\n",
      "\u001b[0;31mNameError\u001b[0m: name 'marginal_post' is not defined"
     ]
    }
   ],
   "source": [
    "marginal_post.sel(draw=slice(0, 20))"
   ]
  },
  {
   "cell_type": "code",
   "execution_count": 36,
   "id": "7515d326-fddb-41c2-854d-8d63bbdd2f0e",
   "metadata": {},
   "outputs": [
    {
     "ename": "SyntaxError",
     "evalue": "unterminated string literal (detected at line 4) (655374434.py, line 4)",
     "output_type": "error",
     "traceback": [
      "\u001b[0;36m  Cell \u001b[0;32mIn[36], line 4\u001b[0;36m\u001b[0m\n\u001b[0;31m    )d\"]\u001b[0m\n\u001b[0m      ^\u001b[0m\n\u001b[0;31mSyntaxError\u001b[0m\u001b[0;31m:\u001b[0m unterminated string literal (detected at line 4)\n"
     ]
    }
   ],
   "source": [
    "with model:\n",
    "    pred_samples = pm.sample_posterior_predictive(\n",
    "        marginal_post.sel(draw=slice(0, 20)), var_names=[\"f_pred\"]\n",
    "    )d\"]\r\n",
    "    )"
   ]
  },
  {
   "cell_type": "code",
   "execution_count": null,
   "id": "433e74d6-4730-4239-ad89-f37525527a0d",
   "metadata": {},
   "outputs": [],
   "source": [
    "# plot the results\n",
    "fig = plt.figure(figsize=(12, 5))\n",
    "ax = fig.gca()\n",
    "\n",
    "# plot the samples from the gp posterior with samples and shading\n",
    "from pymc.gp.util import plot_gp_dist\n",
    "\n",
    "f_pred_samples = az.extract(pred_samples, group=\"posterior_predictive\", var_names=[\"f_pred\"])\n",
    "plot_gp_dist(ax, samples=f_pred_samples.T, x=X_new)\n",
    "\n",
    "# plot the data and the true latent function\n",
    "plt.plot(X, f_true, \"dodgerblue\", lw=3, label=\"True f\")\n",
    "plt.plot(X, y, \"ok\", ms=3, alpha=0.5, label=\"Observed data\")\n",
    "\n",
    "# axis labels and title\n",
    "plt.xlabel(\"X\")\n",
    "plt.ylim([-13, 13])\n",
    "plt.title(\"Posterior distribution over $f(x)$ at the observed values\")\n",
    "plt.legend();"
   ]
  },
  {
   "cell_type": "code",
   "execution_count": null,
   "id": "46c7a06b-0b7f-4f5f-b290-8e365fabe982",
   "metadata": {},
   "outputs": [],
   "source": []
  }
 ],
 "metadata": {
  "kernelspec": {
   "display_name": "pymc",
   "language": "python",
   "name": "pymc"
  },
  "language_info": {
   "codemirror_mode": {
    "name": "ipython",
    "version": 3
   },
   "file_extension": ".py",
   "mimetype": "text/x-python",
   "name": "python",
   "nbconvert_exporter": "python",
   "pygments_lexer": "ipython3",
   "version": "3.11.9"
  }
 },
 "nbformat": 4,
 "nbformat_minor": 5
}
