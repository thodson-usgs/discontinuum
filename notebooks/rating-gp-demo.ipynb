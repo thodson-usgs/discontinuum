{
 "cells": [
  {
   "cell_type": "markdown",
   "id": "4468d2cc-8303-40d7-8821-8b85c8c21e3e",
   "metadata": {
    "editable": true,
    "slideshow": {
     "slide_type": ""
    },
    "tags": []
   },
   "source": [
    "# rating-gp (prototype)\n",
    "`rating-gp` is a prototype model that can fit rating curves (stage-discharge relationship) using a Gaussian process.\n",
    "This model seeks to expand the typical rating curve fitting process to include shifts in the rating curve with time such that the time evolution in the rating curve can be included in the model.\n",
    "\n",
    "[![Open In Colab](https://colab.research.google.com/assets/colab-badge.svg)](https://colab.research.google.com/github/thodson-usgs/discontinuum/blob/main/notebooks/rating-gp-demo.ipynb)\n",
    "[![Binder](https://mybinder.org/badge_logo.svg)](https://mybinder.org/v2/gh/thodson-usgs/discontinuum/main?labpath=notebooks%2Frating-gp-demo.ipynb)"
   ]
  },
  {
   "cell_type": "code",
   "execution_count": null,
   "id": "272692db-c31c-4f2d-9a66-bb904a85d3ce",
   "metadata": {},
   "outputs": [],
   "source": [
    "%load_ext autoreload\n",
    "%autoreload 2"
   ]
  },
  {
   "cell_type": "code",
   "execution_count": null,
   "id": "c139f8d5-ae66-4e7e-9c20-8a58a704a8dc",
   "metadata": {
    "editable": true,
    "slideshow": {
     "slide_type": ""
    },
    "tags": []
   },
   "outputs": [],
   "source": [
    "import matplotlib.pyplot as plt\n",
    "import numpy as np\n",
    "import xarray as xr\n",
    "\n",
    "%matplotlib inline"
   ]
  },
  {
   "cell_type": "markdown",
   "id": "f0aa9360-616e-4ba3-a027-5fecb7cd5f2f",
   "metadata": {},
   "source": [
    "Let's select some sites that have a nice variety of rating curves. We will include ones with clear breaks and shifts and others without breaks and minimal shifts. Site number 12413470 is a good example of a rating with a clear break around a stage of 2.7m and very recent and drastic shift. 10131000 is another good example of a rating with a break, but no real shifts in time. 09261000 is a site with no breaks and minimal shifts making it an ideal basic example. Finally, 10154200 also has no prominent breaks, but it does have a very clear shifting with time. Therefore, these four sites should be a nice standard for testing `rating-gp`."
   ]
  },
  {
   "cell_type": "code",
   "execution_count": null,
   "id": "102a05a4-2f32-4acc-ad3e-c3505b1e4846",
   "metadata": {},
   "outputs": [],
   "source": [
    "sites = {\"12413470\": 'SF Coeur D Alene River nr Pinehurst, ID',\n",
    "         '10131000': 'CHALK CREEK AT COALVILLE, UT',\n",
    "         '09261000': 'GREEN RIVER NEAR JENSEN, UT',\n",
    "         '10154200': 'PROVO RIVER NEAR WOODLAND, UT'}\n",
    "\n",
    "# Select a date range\n",
    "start_date = \"1988-10-01\" \n",
    "end_date = \"2021-09-30\""
   ]
  },
  {
   "cell_type": "markdown",
   "id": "f90247a0-d376-4068-aa3a-7fbca417095e",
   "metadata": {},
   "source": [
    "Now that we have selected our sites, we need to download the data. In `discontinuum`, the convention is to download directly using `providers`, which wrap a data provider's web-service and perform some initial formatting and metadata construction, then return the result as an `xarray.Dataset`. Here, we'll uses the `usgs` provider. If you need data from another source, create a `provider` and ensure the output matches that of the `usgs` provider. Here, we'll download some instantaneous stage data to use as our model's input, and some discharge data as our target. "
   ]
  },
  {
   "cell_type": "code",
   "execution_count": null,
   "id": "61a1093e-31cd-4412-b549-ede2a7e4270c",
   "metadata": {},
   "outputs": [],
   "source": [
    "import sys\n",
    "sys.path.insert(0, '../src/')\n",
    "from rating_gp.providers import usgs\n",
    "\n",
    "# download instantaneous stage and discharge measurements\n",
    "training_data_dict = {}\n",
    "for site in sites:\n",
    "    training_data_dict[site] = usgs.get_measurements(site=site, start_date=start_date, end_date=end_date)"
   ]
  },
  {
   "cell_type": "markdown",
   "id": "09ea017d-dbc3-4453-924a-e04f8f4d0c9d",
   "metadata": {},
   "source": [
    "With the training data, we're now ready to fit a model to each site. Depending on your hardware, this should only take about 20-30s for each site."
   ]
  },
  {
   "cell_type": "code",
   "execution_count": null,
   "id": "60d0eef3-1f31-4950-897b-11713e17a284",
   "metadata": {},
   "outputs": [],
   "source": [
    "# select an engine\n",
    "from rating_gp.models.gpytorch import RatingGPMarginalGPyTorch as RatingGP\n",
    "\n",
    "model = {}\n",
    "for site in sites:\n",
    "    training_data = training_data_dict[site]\n",
    "    model[site] = RatingGP()\n",
    "    model[site].fit(target=training_data['discharge'], covariates=training_data[['stage']], target_unc=training_data['discharge_unc'], iterations=400)"
   ]
  },
  {
   "cell_type": "markdown",
   "id": "33170d73-2154-4fb2-8cb1-5deba1dfc96f",
   "metadata": {},
   "source": [
    "With the models fit, we can generate some nice plots of an observed rating curve and time series of both stage and discharge. We will do this just for site 12413470 to not take up too much room."
   ]
  },
  {
   "cell_type": "code",
   "execution_count": null,
   "id": "c176dcb2-1b1b-490f-884c-bf8faf88fd5e",
   "metadata": {},
   "outputs": [],
   "source": [
    "fig, ax = plt.subplots(2, 2, figsize=(10, 7), sharex='col', sharey='row')\n",
    "ax[0, 0] = model[list(sites.keys())[0]].plot_stage(ax=ax[0, 0])\n",
    "ax[1, 0] = model[list(sites.keys())[0]].plot_discharge(ax=ax[1, 0])\n",
    "ax[1, 1] = model[list(sites.keys())[0]].plot_observed_rating(ax=ax[1, 1], zorder=3)\n",
    "_ = ax[0, 1].axis('off')"
   ]
  },
  {
   "cell_type": "markdown",
   "id": "dc40a9c0-8d93-4bc9-9d50-0a73ae93552b",
   "metadata": {},
   "source": [
    "One major advantage of `rating-gp` is that the resulting model can be used to make predictions of a rating curve at any moment in time. To see how well our model can predict rating curve across time, let's plot the rating curves for each site at an interval of every 5 years at the start of a water year (i.e., October 1st). This way we can see how well the model accounts for any shift in the rating with time. As this will be several plots, let's save each collection of plots for a given date to a page in a pdf for easy checking."
   ]
  },
  {
   "cell_type": "code",
   "execution_count": null,
   "id": "865133e2-35d0-4126-a02f-38a0c9d5937b",
   "metadata": {
    "scrolled": true
   },
   "outputs": [],
   "source": [
    "from matplotlib.backends.backend_pdf import PdfPages\n",
    "import warnings\n",
    "warnings.filterwarnings('ignore')\n",
    "\n",
    "n = 250\n",
    "\n",
    "with PdfPages('time_variable_ratings.pdf') as pdf:\n",
    "    for j in np.linspace(1990, 2020, 7).astype(int):\n",
    "        fig, axes = plt.subplots(2, 2, figsize=(10, 10))\n",
    "        for site, ax in zip(sites, axes.flatten()):\n",
    "            stage = np.linspace(model[site].dm.data.covariates['stage'].min(),\n",
    "                                model[site].dm.data.covariates['stage'].max()*1.5,\n",
    "                                n)\n",
    "            time = np.repeat(np.datetime64(f\"{j}-10-01 00:00:00\", 'ns'), n)\n",
    "            \n",
    "            ds = xr.Dataset(\n",
    "                data_vars=dict(\n",
    "                    stage=([\"time\"], stage),\n",
    "                ),\n",
    "                coords=dict(\n",
    "                    time=time,\n",
    "                ),\n",
    "            )\n",
    "            \n",
    "            ax = model[site].plot_rating(ds, ax=ax)\n",
    "            ax.set_xscale('log')\n",
    "            ax.set_yscale('log')\n",
    "            ax.set_title(f'{site}: {sites[site]}')\n",
    "            \n",
    "        fig.suptitle(f\"{j}-10-01\")\n",
    "        plt.tight_layout()\n",
    "        pdf.savefig(fig)"
   ]
  },
  {
   "cell_type": "markdown",
   "id": "1a36ffc1-0f58-496f-80a8-af08f466cd3b",
   "metadata": {},
   "source": [
    "Nice! The shifts with time are clearly predicted by the model. These results are are promising for `rating-gp` to be able to model shift in rating curves effectively."
   ]
  }
 ],
 "metadata": {
  "kernelspec": {
   "display_name": "Python 3 (ipykernel)",
   "language": "python",
   "name": "python3"
  },
  "language_info": {
   "codemirror_mode": {
    "name": "ipython",
    "version": 3
   },
   "file_extension": ".py",
   "mimetype": "text/x-python",
   "name": "python",
   "nbconvert_exporter": "python",
   "pygments_lexer": "ipython3",
   "version": "3.12.4"
  }
 },
 "nbformat": 4,
 "nbformat_minor": 5
}
