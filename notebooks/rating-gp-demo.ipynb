{
 "cells": [
  {
   "cell_type": "markdown",
   "id": "4468d2cc-8303-40d7-8821-8b85c8c21e3e",
   "metadata": {
    "editable": true,
    "slideshow": {
     "slide_type": ""
    },
    "tags": []
   },
   "source": [
    "# rating-gp (prototype)\n",
    "`rating-gp` is a prototype model that can fit rating curves (stage-discharge relationship) using the Generalized Power Law Model (GPLM) of [Hrafnkelsson et al. (2021)](https://doi.org/10.1002/env.2711) using a Gaussian process.\n",
    "This model seeks to expand the GPLM to include changes in the rating curve with time such that the time evolution in the rating curve can be included in the model.\n",
    "\n",
    "[![Open In Colab](https://colab.research.google.com/assets/colab-badge.svg)](https://colab.research.google.com/github/thodson-usgs/discontinuum/blob/main/notebooks/rating-gp-demo.ipynb)\n",
    "[![Binder](https://mybinder.org/badge_logo.svg)](https://mybinder.org/v2/gh/thodson-usgs/discontinuum/main?labpath=notebooks%2Frating-gp-demo.ipynb)"
   ]
  },
  {
   "cell_type": "code",
   "execution_count": null,
   "id": "272692db-c31c-4f2d-9a66-bb904a85d3ce",
   "metadata": {},
   "outputs": [],
   "source": [
    "%load_ext autoreload\n",
    "%autoreload 2"
   ]
  },
  {
   "cell_type": "code",
   "execution_count": null,
   "id": "c139f8d5-ae66-4e7e-9c20-8a58a704a8dc",
   "metadata": {
    "editable": true,
    "slideshow": {
     "slide_type": ""
    },
    "tags": []
   },
   "outputs": [],
   "source": [
    "import matplotlib.pyplot as plt\n",
    "import xarray as xr\n",
    "\n",
    "%matplotlib inline"
   ]
  },
  {
   "cell_type": "code",
   "execution_count": null,
   "id": "102a05a4-2f32-4acc-ad3e-c3505b1e4846",
   "metadata": {},
   "outputs": [],
   "source": [
    "# SF Coeur D Alene River nr Pinehurst, ID\n",
    "site = \"12413470\"\n",
    "start_date = \"1988-10-01\" \n",
    "end_date = \"2021-09-30\""
   ]
  },
  {
   "cell_type": "markdown",
   "id": "f90247a0-d376-4068-aa3a-7fbca417095e",
   "metadata": {},
   "source": [
    "First, download the data. In `discontinuum`, the convention is to download directly using `providers`, which wrap a data provider's web-service and perform some initial formatting and metadata construction, then return the result as an `xarray.Dataset`. Here, we'll uses the `usgs` provider. If you need data from another source, create a `provider` and ensure the output matches that of the `usgs` provider. Here, we'll download some instantaneous stage data to use as our model's input, and some discharge data as our target. "
   ]
  },
  {
   "cell_type": "code",
   "execution_count": null,
   "id": "61a1093e-31cd-4412-b549-ede2a7e4270c",
   "metadata": {},
   "outputs": [],
   "source": [
    "from rating_gp.providers import usgs\n",
    "\n",
    "# download instantaneous stage and discharge measurements\n",
    "training_data = usgs.get_measurements(site=site, start_date=start_date, end_date=end_date)\n",
    "training_data"
   ]
  },
  {
   "cell_type": "code",
   "execution_count": null,
   "id": "dea274bc-a2fb-470e-bcde-a1753c38083c",
   "metadata": {},
   "outputs": [],
   "source": [
    "training_data.plot.scatter(x=\"stage\", y=\"discharge\")"
   ]
  },
  {
   "cell_type": "markdown",
   "id": "09ea017d-dbc3-4453-924a-e04f8f4d0c9d",
   "metadata": {},
   "source": [
    "With the training data, we're now ready to fit the model. Depending on your hardware, this should only take about 10-20s. The first fit will also compile the model, which takes longer. After running it once, try running the cell again and note the difference in wall time."
   ]
  },
  {
   "cell_type": "code",
   "execution_count": null,
   "id": "60d0eef3-1f31-4950-897b-11713e17a284",
   "metadata": {},
   "outputs": [],
   "source": [
    "%%time\n",
    "# select an engine\n",
    "from rating_gp.models.gpytorch import RatingGPMarginalGPyTorch as RatingGP\n",
    "\n",
    "model = RatingGP()\n",
    "model.fit(target=training_data['discharge'], covariates=training_data[['stage']], target_unc=training_data['discharge_unc'])"
   ]
  },
  {
   "cell_type": "code",
   "execution_count": null,
   "id": "d2a9eeab-efa9-47a9-8c37-36fc608cb0da",
   "metadata": {},
   "outputs": [],
   "source": [
    "training_data['stage'].argmax()"
   ]
  },
  {
   "cell_type": "markdown",
   "id": "33170d73-2154-4fb2-8cb1-5deba1dfc96f",
   "metadata": {},
   "source": [
    "With the model fit, we can generate some nice plots of the rating curve and time series of both stage and discharge."
   ]
  },
  {
   "cell_type": "code",
   "execution_count": null,
   "id": "c176dcb2-1b1b-490f-884c-bf8faf88fd5e",
   "metadata": {},
   "outputs": [],
   "source": [
    "fig, ax = plt.subplots(2, 2, figsize=(10, 7), sharex='col', sharey='row')\n",
    "ax[0, 0] = model.plot_stage(ax=ax[0, 0])\n",
    "ax[1, 0] = model.plot_observations(ax=ax[1, 0])\n",
    "ax[1, 1] = model.plot_observed_rating(ax=ax[1, 1])\n",
    "ax[0, 1].axis('off')"
   ]
  },
  {
   "cell_type": "markdown",
   "id": "af4ce110-4d7a-4335-94a4-6ececc7127ad",
   "metadata": {},
   "source": [
    "Now, let's download some dialy stage measurements and see how the predictions for discharge look for these measurements."
   ]
  },
  {
   "cell_type": "code",
   "execution_count": null,
   "id": "87877b55-5eba-4afe-9f42-b6c8ec6127b8",
   "metadata": {},
   "outputs": [],
   "source": [
    "test_data = usgs.get_daily_stage(site=site, start_date=start_date, end_date=end_date)\n",
    "test_data"
   ]
  },
  {
   "cell_type": "code",
   "execution_count": null,
   "id": "1154b812-162c-4aa5-bf08-62c8f41eed06",
   "metadata": {},
   "outputs": [],
   "source": [
    "fig, ax = plt.subplots(2, 2, figsize=(10, 7), sharex='col', sharey='row')\n",
    "ax[0, 0] = model.plot_stage(test_data, ax=ax[0, 0])\n",
    "ax[1, 0] = model.plot(test_data, ax=ax[1, 0])\n",
    "ax[1, 1] = model.plot_rating(test_data.sortby(\"stage\"), ax=ax[1, 1])\n",
    "ax[0, 1].axis('off')"
   ]
  },
  {
   "cell_type": "markdown",
   "id": "6e7d97fb-0f00-453b-9848-bba05b13b3cf",
   "metadata": {},
   "source": [
    "These results look pretty good in the time series plots. The fluctuations in the rating curve are expected as we are modeling the changes in the rating curve with time. Therefore, the fluctuations are the due to changes in the rating curve."
   ]
  },
  {
   "cell_type": "markdown",
   "id": "dc40a9c0-8d93-4bc9-9d50-0a73ae93552b",
   "metadata": {},
   "source": [
    "## TODO\n",
    "We'll need the ability to plot the rating curve at fixed points in time in order to evaluate whether the fitting and shifting is working as we expect. Here's quick example but I plan to refactor prediction to make this easier."
   ]
  },
  {
   "cell_type": "code",
   "execution_count": null,
   "id": "ec7b8bc1-f2ef-4ba5-a928-a582916a0653",
   "metadata": {},
   "outputs": [],
   "source": [
    "import numpy as np\n",
    "stage = np.linspace(test_data['stage'].min(), 5.5, 100)\n",
    "time = training_data.time.values[82]\n",
    "time = np.repeat(time, 100)\n",
    "\n",
    "ds = xr.Dataset(\n",
    "    data_vars=dict(\n",
    "        stage=([\"time\"], stage),\n",
    "    ),\n",
    "    coords=dict(\n",
    "        time=time,\n",
    "    ),\n",
    ")\n",
    "\n",
    "model.plot_rating(ds)"
   ]
  }
 ],
 "metadata": {
  "kernelspec": {
   "display_name": "Python 3 (ipykernel)",
   "language": "python",
   "name": "python3"
  },
  "language_info": {
   "codemirror_mode": {
    "name": "ipython",
    "version": 3
   },
   "file_extension": ".py",
   "mimetype": "text/x-python",
   "name": "python",
   "nbconvert_exporter": "python",
   "pygments_lexer": "ipython3",
   "version": "3.12.4"
  }
 },
 "nbformat": 4,
 "nbformat_minor": 5
}
