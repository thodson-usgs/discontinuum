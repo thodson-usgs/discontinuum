{
 "cells": [
  {
   "cell_type": "markdown",
   "id": "4593c4b5-6a1f-4d3b-b520-eb9d850f45c6",
   "metadata": {},
   "source": [
    "# Package Overview\n",
    "\n",
    "`dataretrieval` is available on the Python Package Index (PyPI).\n",
    "\n",
    "```bash\n",
    "pip install dataretrieval\n",
    "```\n",
    "and `conda-forge`\n",
    "```bash\n",
    "conda install -c conda-forge dataretrieval\n",
    "```"
   ]
  },
  {
   "cell_type": "code",
   "execution_count": 1,
   "id": "aab193e1-4ced-4e46-9e12-4e09a0a605e9",
   "metadata": {},
   "outputs": [],
   "source": [
    "from dataretrieval import nwis"
   ]
  },
  {
   "cell_type": "markdown",
   "id": "64a7f41e-19fc-4cbe-90ef-3417788f2a28",
   "metadata": {},
   "source": [
    "The user functions in the `nwis` module are prefixed with `get_`.\n",
    "The one exception is the  function `what_sites`; however, it's just a wrapper\n",
    "\n",
    "Let's begin by listing "
   ]
  },
  {
   "cell_type": "code",
   "execution_count": 2,
   "id": "e10965e4-8927-4233-ae60-206578326e72",
   "metadata": {},
   "outputs": [
    {
     "data": {
      "text/plain": [
       "['get_discharge_measurements',\n",
       " 'get_discharge_peaks',\n",
       " 'get_dv',\n",
       " 'get_gwlevels',\n",
       " 'get_info',\n",
       " 'get_iv',\n",
       " 'get_pmcodes',\n",
       " 'get_qwdata',\n",
       " 'get_ratings',\n",
       " 'get_record',\n",
       " 'get_stats',\n",
       " 'get_water_use',\n",
       " 'what_sites']"
      ]
     },
     "execution_count": 2,
     "metadata": {},
     "output_type": "execute_result"
    }
   ],
   "source": [
    "[i for i in dir(nwis) if \"get\" in i or \"what\" in i]"
   ]
  },
  {
   "cell_type": "markdown",
   "id": "75f4db7a-7e22-4ed3-a8cf-05bbb7174729",
   "metadata": {},
   "source": [
    "(note: we can view a function's doc using `help(nwis.get_dv)` or `nwis.get_dv?`"
   ]
  },
  {
   "cell_type": "code",
   "execution_count": 3,
   "id": "f778f628-d232-4b82-9334-5c2a11cc95e5",
   "metadata": {},
   "outputs": [
    {
     "data": {
      "text/plain": [
       "\u001b[0;31mSignature:\u001b[0m\n",
       "\u001b[0mnwis\u001b[0m\u001b[0;34m.\u001b[0m\u001b[0mget_dv\u001b[0m\u001b[0;34m(\u001b[0m\u001b[0;34m\u001b[0m\n",
       "\u001b[0;34m\u001b[0m    \u001b[0msites\u001b[0m\u001b[0;34m:\u001b[0m \u001b[0mUnion\u001b[0m\u001b[0;34m[\u001b[0m\u001b[0mList\u001b[0m\u001b[0;34m[\u001b[0m\u001b[0mstr\u001b[0m\u001b[0;34m]\u001b[0m\u001b[0;34m,\u001b[0m \u001b[0mstr\u001b[0m\u001b[0;34m,\u001b[0m \u001b[0mNoneType\u001b[0m\u001b[0;34m]\u001b[0m \u001b[0;34m=\u001b[0m \u001b[0;32mNone\u001b[0m\u001b[0;34m,\u001b[0m\u001b[0;34m\u001b[0m\n",
       "\u001b[0;34m\u001b[0m    \u001b[0mstart\u001b[0m\u001b[0;34m:\u001b[0m \u001b[0mOptional\u001b[0m\u001b[0;34m[\u001b[0m\u001b[0mstr\u001b[0m\u001b[0;34m]\u001b[0m \u001b[0;34m=\u001b[0m \u001b[0;32mNone\u001b[0m\u001b[0;34m,\u001b[0m\u001b[0;34m\u001b[0m\n",
       "\u001b[0;34m\u001b[0m    \u001b[0mend\u001b[0m\u001b[0;34m:\u001b[0m \u001b[0mOptional\u001b[0m\u001b[0;34m[\u001b[0m\u001b[0mstr\u001b[0m\u001b[0;34m]\u001b[0m \u001b[0;34m=\u001b[0m \u001b[0;32mNone\u001b[0m\u001b[0;34m,\u001b[0m\u001b[0;34m\u001b[0m\n",
       "\u001b[0;34m\u001b[0m    \u001b[0mmulti_index\u001b[0m\u001b[0;34m:\u001b[0m \u001b[0mbool\u001b[0m \u001b[0;34m=\u001b[0m \u001b[0;32mTrue\u001b[0m\u001b[0;34m,\u001b[0m\u001b[0;34m\u001b[0m\n",
       "\u001b[0;34m\u001b[0m    \u001b[0mssl_check\u001b[0m\u001b[0;34m:\u001b[0m \u001b[0mbool\u001b[0m \u001b[0;34m=\u001b[0m \u001b[0;32mTrue\u001b[0m\u001b[0;34m,\u001b[0m\u001b[0;34m\u001b[0m\n",
       "\u001b[0;34m\u001b[0m    \u001b[0;34m**\u001b[0m\u001b[0mkwargs\u001b[0m\u001b[0;34m,\u001b[0m\u001b[0;34m\u001b[0m\n",
       "\u001b[0;34m\u001b[0m\u001b[0;34m)\u001b[0m \u001b[0;34m->\u001b[0m \u001b[0mTuple\u001b[0m\u001b[0;34m[\u001b[0m\u001b[0mpandas\u001b[0m\u001b[0;34m.\u001b[0m\u001b[0mcore\u001b[0m\u001b[0;34m.\u001b[0m\u001b[0mframe\u001b[0m\u001b[0;34m.\u001b[0m\u001b[0mDataFrame\u001b[0m\u001b[0;34m,\u001b[0m \u001b[0mdataretrieval\u001b[0m\u001b[0;34m.\u001b[0m\u001b[0mutils\u001b[0m\u001b[0;34m.\u001b[0m\u001b[0mBaseMetadata\u001b[0m\u001b[0;34m]\u001b[0m\u001b[0;34m\u001b[0m\u001b[0;34m\u001b[0m\u001b[0m\n",
       "\u001b[0;31mDocstring:\u001b[0m\n",
       "Get daily values data from NWIS and return it as a ``pandas.DataFrame``.\n",
       "\n",
       ".. note:\n",
       "\n",
       "    If no start or end date are provided, only the most recent record\n",
       "    is returned.\n",
       "\n",
       "Parameters\n",
       "----------\n",
       "sites: string or list of strings, optional, default is None\n",
       "    USGS site number (or list of site numbers)\n",
       "start: string, optional, default is None\n",
       "    If the waterdata parameter startDT is supplied, it will overwrite the\n",
       "    start parameter (YYYY-MM-DD)\n",
       "end: string, optional, default is None\n",
       "    If the waterdata parameter endDT is supplied, it will overwrite the\n",
       "    end parameter (YYYY-MM-DD)\n",
       "multi_index: bool, optional\n",
       "    If True, return a multi-index dataframe, if False, return a\n",
       "    single-index dataframe, default is True\n",
       "ssl_check: bool, optional\n",
       "    If True, check SSL certificates, if False, do not check SSL,\n",
       "    default is True\n",
       "**kwargs: optional\n",
       "    If supplied, will be used as query parameters\n",
       "\n",
       "Returns\n",
       "-------\n",
       "df: ``pandas.DataFrame``\n",
       "    Times series data from the NWIS JSON\n",
       "md: :obj:`dataretrieval.utils.Metadata`\n",
       "    A custom metadata object\n",
       "\n",
       "Examples\n",
       "--------\n",
       ".. doctest::\n",
       "\n",
       "    >>> # Get mean statistic daily values for site 04085427\n",
       "    >>> df, md = dataretrieval.nwis.get_dv(\n",
       "    ...     sites='04085427', start='2012-01-01', end='2012-06-30', statCd='00003'\n",
       "    ... )\n",
       "\n",
       "    >>> # Get the latest daily values for site 01646500\n",
       "    >>> df, md = dataretrieval.nwis.get_dv(sites='01646500')\n",
       "\u001b[0;31mFile:\u001b[0m      ~/micromamba/envs/discontinuum-dev/lib/python3.11/site-packages/dataretrieval/nwis.py\n",
       "\u001b[0;31mType:\u001b[0m      function"
      ]
     },
     "metadata": {},
     "output_type": "display_data"
    }
   ],
   "source": [
    "nwis.get_dv?"
   ]
  },
  {
   "cell_type": "markdown",
   "id": "f6cf19c1-1606-4cbc-821a-cf24004c6b93",
   "metadata": {},
   "source": [
    "# National Water Information System (NWIS) \n",
    "USGS data comes from the National Water Information System (NWIS). \n",
    "There are many types of data served from NWIS. \n",
    "To understand how the services are separated, it's helpful to understand the terms here:"
   ]
  },
  {
   "cell_type": "markdown",
   "id": "6e60c198-8aae-4560-846b-602c00130922",
   "metadata": {},
   "source": [
    "## USGS Basic Retrievals\n",
    "\n",
    "The USGS uses various codes for basic retrievals. These codes can have leading zeros, therefore in Python they need to be strings (\"01234567\").\n",
    "\n",
    "* Site ID (often 8 or 15-digits)\n",
    "* Parameter Code (5 digits)\n",
    "    + Full list:\n",
    "    + [https://nwis.waterdata.usgs.gov/usa/nwis/pmcodes](https://nwis.waterdata.usgs.gov/usa/nwis/pmcodes)\n",
    "    + Alternatively use `nwis.get_pmcodes(\"all\")`\n",
    "* Statistic Code (for daily values)\n",
    "    + Full list:\n",
    "    + [http://help.waterdata.usgs.gov/code/stat_cd_nm_query?stat_nm_cd=%25&fmt=html](http://help.waterdata.usgs.gov/code/stat_cd_nm_query?stat_nm_cd=%25&fmt=html)\n"
   ]
  },
  {
   "cell_type": "code",
   "execution_count": 4,
   "id": "3a0b44a7-5686-4d4c-8361-405889664d60",
   "metadata": {},
   "outputs": [],
   "source": [
    "# df, _ = nwis.get_pmcodes(\"00060\"); df"
   ]
  },
  {
   "cell_type": "markdown",
   "id": "e4513e64-730a-4b79-94c7-4e6e4e8ab012",
   "metadata": {},
   "source": [
    "Here a few of the most common parameter codes\n",
    "\n",
    "| Code  | Name         |\n",
    "| ------| ------------ |\n",
    "|00060  | Discharge    |\n",
    "|00065  | Gage Height  |\n",
    "|00010\t| Temperature  |\n",
    "|00400\t| pH           |\n",
    "\n",
    "And here are a few common statistic codes\n",
    "\n",
    "| Code  | Name         |\n",
    "| ------| ------------ |\n",
    "|00001  | Maximum      |\n",
    "|00002  | Minimum      |\n",
    "|00003\t| Mean         |\n",
    "|00008\t| Median       |\n"
   ]
  },
  {
   "cell_type": "markdown",
   "id": "8b6df365-c974-4f11-93ab-2f3be866950e",
   "metadata": {},
   "source": [
    "The `nwis.get_pmcodes` function returns information on USGS parameter codes. \n",
    "You can use \"all\" to get a full list, then filter out those of interest.\n",
    "\n",
    "Here is one example to find all the phosphorous parameter codes:"
   ]
  },
  {
   "cell_type": "code",
   "execution_count": 5,
   "id": "fb3b9f6a-551e-427b-8059-e57265ad0019",
   "metadata": {},
   "outputs": [],
   "source": [
    "df, _ = nwis.get_pmcodes(\"all\")"
   ]
  },
  {
   "cell_type": "code",
   "execution_count": 6,
   "id": "244b08b8-6966-49dd-aeb7-14769eb564eb",
   "metadata": {},
   "outputs": [
    {
     "data": {
      "text/html": [
       "<div>\n",
       "<style scoped>\n",
       "    .dataframe tbody tr th:only-of-type {\n",
       "        vertical-align: middle;\n",
       "    }\n",
       "\n",
       "    .dataframe tbody tr th {\n",
       "        vertical-align: top;\n",
       "    }\n",
       "\n",
       "    .dataframe thead th {\n",
       "        text-align: right;\n",
       "    }\n",
       "</style>\n",
       "<table border=\"1\" class=\"dataframe\">\n",
       "  <thead>\n",
       "    <tr style=\"text-align: right;\">\n",
       "      <th></th>\n",
       "      <th>parm_cd</th>\n",
       "      <th>group</th>\n",
       "      <th>parm_nm</th>\n",
       "      <th>epa_equivalence</th>\n",
       "      <th>result_statistical_basis</th>\n",
       "      <th>result_time_basis</th>\n",
       "      <th>result_weight_basis</th>\n",
       "      <th>result_particle_size_basis</th>\n",
       "      <th>result_sample_fraction</th>\n",
       "      <th>result_temperature_basis</th>\n",
       "      <th>CASRN</th>\n",
       "      <th>SRSName</th>\n",
       "      <th>parm_unit</th>\n",
       "    </tr>\n",
       "  </thead>\n",
       "  <tbody>\n",
       "    <tr>\n",
       "      <th>208</th>\n",
       "      <td>00662</td>\n",
       "      <td>Nutrient</td>\n",
       "      <td>Phosphorus, water, unfiltered, recoverable, mi...</td>\n",
       "      <td>Agree</td>\n",
       "      <td>NaN</td>\n",
       "      <td>NaN</td>\n",
       "      <td>NaN</td>\n",
       "      <td>NaN</td>\n",
       "      <td>Recoverable</td>\n",
       "      <td>NaN</td>\n",
       "      <td>7723-14-0</td>\n",
       "      <td></td>\n",
       "      <td>ug/l as P</td>\n",
       "    </tr>\n",
       "    <tr>\n",
       "      <th>209</th>\n",
       "      <td>00665</td>\n",
       "      <td>Nutrient</td>\n",
       "      <td>Phosphorus, water, unfiltered, milligrams per ...</td>\n",
       "      <td>Agree</td>\n",
       "      <td>NaN</td>\n",
       "      <td>NaN</td>\n",
       "      <td>NaN</td>\n",
       "      <td>NaN</td>\n",
       "      <td>Total</td>\n",
       "      <td>NaN</td>\n",
       "      <td>7723-14-0</td>\n",
       "      <td>Phosphorus</td>\n",
       "      <td>mg/l as P</td>\n",
       "    </tr>\n",
       "    <tr>\n",
       "      <th>210</th>\n",
       "      <td>00666</td>\n",
       "      <td>Nutrient</td>\n",
       "      <td>Phosphorus, water, filtered, milligrams per li...</td>\n",
       "      <td>Agree</td>\n",
       "      <td>NaN</td>\n",
       "      <td>NaN</td>\n",
       "      <td>NaN</td>\n",
       "      <td>NaN</td>\n",
       "      <td>Dissolved</td>\n",
       "      <td>NaN</td>\n",
       "      <td>7723-14-0</td>\n",
       "      <td>Phosphorus</td>\n",
       "      <td>mg/l as P</td>\n",
       "    </tr>\n",
       "    <tr>\n",
       "      <th>211</th>\n",
       "      <td>00667</td>\n",
       "      <td>Nutrient</td>\n",
       "      <td>Phosphorus, suspended sediment, total, milligr...</td>\n",
       "      <td>Agree</td>\n",
       "      <td>NaN</td>\n",
       "      <td>NaN</td>\n",
       "      <td>NaN</td>\n",
       "      <td>NaN</td>\n",
       "      <td>Suspended</td>\n",
       "      <td>NaN</td>\n",
       "      <td>7723-14-0</td>\n",
       "      <td>Phosphorus</td>\n",
       "      <td>mg/l as P</td>\n",
       "    </tr>\n",
       "    <tr>\n",
       "      <th>212</th>\n",
       "      <td>00668</td>\n",
       "      <td>Nutrient</td>\n",
       "      <td>Phosphorus, bed sediment, total, dry weight, m...</td>\n",
       "      <td>Agree</td>\n",
       "      <td>NaN</td>\n",
       "      <td>NaN</td>\n",
       "      <td>Dry</td>\n",
       "      <td>NaN</td>\n",
       "      <td>Bed Sediment</td>\n",
       "      <td>NaN</td>\n",
       "      <td>7723-14-0</td>\n",
       "      <td>Phosphorus</td>\n",
       "      <td>mg/kg as P</td>\n",
       "    </tr>\n",
       "    <tr>\n",
       "      <th>213</th>\n",
       "      <td>00669</td>\n",
       "      <td>Nutrient</td>\n",
       "      <td>Hydrolyzable phosphorus, water, unfiltered, mi...</td>\n",
       "      <td>Agree</td>\n",
       "      <td>NaN</td>\n",
       "      <td>NaN</td>\n",
       "      <td>NaN</td>\n",
       "      <td>NaN</td>\n",
       "      <td>Total</td>\n",
       "      <td>NaN</td>\n",
       "      <td></td>\n",
       "      <td></td>\n",
       "      <td>mg/l as P</td>\n",
       "    </tr>\n",
       "    <tr>\n",
       "      <th>214</th>\n",
       "      <td>00670</td>\n",
       "      <td>Nutrient</td>\n",
       "      <td>Organic phosphorus, water, unfiltered, milligr...</td>\n",
       "      <td>Agree</td>\n",
       "      <td>NaN</td>\n",
       "      <td>NaN</td>\n",
       "      <td>NaN</td>\n",
       "      <td>NaN</td>\n",
       "      <td>Total</td>\n",
       "      <td>NaN</td>\n",
       "      <td></td>\n",
       "      <td>Organic phosphorus</td>\n",
       "      <td>mg/l as P</td>\n",
       "    </tr>\n",
       "    <tr>\n",
       "      <th>215</th>\n",
       "      <td>00671</td>\n",
       "      <td>Nutrient</td>\n",
       "      <td>Orthophosphate, water, filtered, milligrams pe...</td>\n",
       "      <td>Agree</td>\n",
       "      <td>NaN</td>\n",
       "      <td>NaN</td>\n",
       "      <td>NaN</td>\n",
       "      <td>NaN</td>\n",
       "      <td>Dissolved</td>\n",
       "      <td>NaN</td>\n",
       "      <td>14265-44-2</td>\n",
       "      <td>Phosphate</td>\n",
       "      <td>mg/l as P</td>\n",
       "    </tr>\n",
       "    <tr>\n",
       "      <th>216</th>\n",
       "      <td>00672</td>\n",
       "      <td>Nutrient</td>\n",
       "      <td>Hydrolyzable phosphorus, water, filtered, mill...</td>\n",
       "      <td>Agree</td>\n",
       "      <td>NaN</td>\n",
       "      <td>NaN</td>\n",
       "      <td>NaN</td>\n",
       "      <td>NaN</td>\n",
       "      <td>Dissolved</td>\n",
       "      <td>NaN</td>\n",
       "      <td></td>\n",
       "      <td></td>\n",
       "      <td>mg/l as P</td>\n",
       "    </tr>\n",
       "    <tr>\n",
       "      <th>217</th>\n",
       "      <td>00673</td>\n",
       "      <td>Nutrient</td>\n",
       "      <td>Organic phosphorus, water, filtered, milligram...</td>\n",
       "      <td>Agree</td>\n",
       "      <td>NaN</td>\n",
       "      <td>NaN</td>\n",
       "      <td>NaN</td>\n",
       "      <td>NaN</td>\n",
       "      <td>Dissolved</td>\n",
       "      <td>NaN</td>\n",
       "      <td></td>\n",
       "      <td>Organic phosphorus</td>\n",
       "      <td>mg/l as P</td>\n",
       "    </tr>\n",
       "  </tbody>\n",
       "</table>\n",
       "</div>"
      ],
      "text/plain": [
       "    parm_cd     group                                            parm_nm  \\\n",
       "208   00662  Nutrient  Phosphorus, water, unfiltered, recoverable, mi...   \n",
       "209   00665  Nutrient  Phosphorus, water, unfiltered, milligrams per ...   \n",
       "210   00666  Nutrient  Phosphorus, water, filtered, milligrams per li...   \n",
       "211   00667  Nutrient  Phosphorus, suspended sediment, total, milligr...   \n",
       "212   00668  Nutrient  Phosphorus, bed sediment, total, dry weight, m...   \n",
       "213   00669  Nutrient  Hydrolyzable phosphorus, water, unfiltered, mi...   \n",
       "214   00670  Nutrient  Organic phosphorus, water, unfiltered, milligr...   \n",
       "215   00671  Nutrient  Orthophosphate, water, filtered, milligrams pe...   \n",
       "216   00672  Nutrient  Hydrolyzable phosphorus, water, filtered, mill...   \n",
       "217   00673  Nutrient  Organic phosphorus, water, filtered, milligram...   \n",
       "\n",
       "    epa_equivalence result_statistical_basis result_time_basis  \\\n",
       "208           Agree                      NaN               NaN   \n",
       "209           Agree                      NaN               NaN   \n",
       "210           Agree                      NaN               NaN   \n",
       "211           Agree                      NaN               NaN   \n",
       "212           Agree                      NaN               NaN   \n",
       "213           Agree                      NaN               NaN   \n",
       "214           Agree                      NaN               NaN   \n",
       "215           Agree                      NaN               NaN   \n",
       "216           Agree                      NaN               NaN   \n",
       "217           Agree                      NaN               NaN   \n",
       "\n",
       "    result_weight_basis result_particle_size_basis result_sample_fraction  \\\n",
       "208                 NaN                        NaN            Recoverable   \n",
       "209                 NaN                        NaN                  Total   \n",
       "210                 NaN                        NaN              Dissolved   \n",
       "211                 NaN                        NaN              Suspended   \n",
       "212                 Dry                        NaN           Bed Sediment   \n",
       "213                 NaN                        NaN                  Total   \n",
       "214                 NaN                        NaN                  Total   \n",
       "215                 NaN                        NaN              Dissolved   \n",
       "216                 NaN                        NaN              Dissolved   \n",
       "217                 NaN                        NaN              Dissolved   \n",
       "\n",
       "    result_temperature_basis       CASRN             SRSName   parm_unit  \n",
       "208                      NaN   7723-14-0                       ug/l as P  \n",
       "209                      NaN   7723-14-0          Phosphorus   mg/l as P  \n",
       "210                      NaN   7723-14-0          Phosphorus   mg/l as P  \n",
       "211                      NaN   7723-14-0          Phosphorus   mg/l as P  \n",
       "212                      NaN   7723-14-0          Phosphorus  mg/kg as P  \n",
       "213                      NaN                                   mg/l as P  \n",
       "214                      NaN              Organic phosphorus   mg/l as P  \n",
       "215                      NaN  14265-44-2           Phosphate   mg/l as P  \n",
       "216                      NaN                                   mg/l as P  \n",
       "217                      NaN              Organic phosphorus   mg/l as P  "
      ]
     },
     "execution_count": 6,
     "metadata": {},
     "output_type": "execute_result"
    }
   ],
   "source": [
    "df[df.parm_nm.str.contains(\"Phosphorus\", case=False)].head(10)"
   ]
  },
  {
   "cell_type": "markdown",
   "id": "856d930c-0d80-4aea-b95a-e7553858c6d5",
   "metadata": {},
   "source": [
    "site = \"05427948\"\n",
    "pcode = \"00060\"\n",
    "start = \"2017-10-01\"\n",
    "end = <- \"2018-09-30\"\n",
    "\n"
   ]
  },
  {
   "cell_type": "code",
   "execution_count": 7,
   "id": "2e38f15f-deaf-42e1-abd6-178797a430b7",
   "metadata": {},
   "outputs": [],
   "source": [
    "site = \"05427948\"\n",
    "pcode = \"00060\"\n",
    "start = \"2017-10-01\"\n",
    "end = \"2024-05-30\"\n",
    "\n",
    "\n",
    "df, meta = nwis.get_dv(\n",
    "    sites=site,\n",
    "    start=start,\n",
    "    end=end,\n",
    "    parameterCd=pcode,  # kwarg passed to NWIS API\n",
    ")"
   ]
  },
  {
   "cell_type": "markdown",
   "id": "a22238f8-2964-420d-860a-fdfe66a85771",
   "metadata": {},
   "source": [
    "Unless your application requires high-frequency (sub daily) data,\n",
    "I recommend you start with daily values.\n",
    "- The datasets are smaller, so they are faster to download and consume less memory.\n",
    "- Data are at a fixed frequency. Instantaneous values aren't always at 15 minutes or the quarter hour. Moreover, different parameters might be at different frequencies.\n",
    "- Missing daily values are estimated and flagged with an 'e'.\n",
    "\n",
    "From the Pheasant Creek example, let’s look at the data."
   ]
  },
  {
   "cell_type": "code",
   "execution_count": 9,
   "id": "1c29b711-5b25-441d-b865-690d3aa1513d",
   "metadata": {},
   "outputs": [
    {
     "data": {
      "text/html": [
       "<div>\n",
       "<style scoped>\n",
       "    .dataframe tbody tr th:only-of-type {\n",
       "        vertical-align: middle;\n",
       "    }\n",
       "\n",
       "    .dataframe tbody tr th {\n",
       "        vertical-align: top;\n",
       "    }\n",
       "\n",
       "    .dataframe thead th {\n",
       "        text-align: right;\n",
       "    }\n",
       "</style>\n",
       "<table border=\"1\" class=\"dataframe\">\n",
       "  <thead>\n",
       "    <tr style=\"text-align: right;\">\n",
       "      <th></th>\n",
       "      <th>site_no</th>\n",
       "      <th>00060_Mean</th>\n",
       "      <th>00060_Mean_cd</th>\n",
       "    </tr>\n",
       "    <tr>\n",
       "      <th>datetime</th>\n",
       "      <th></th>\n",
       "      <th></th>\n",
       "      <th></th>\n",
       "    </tr>\n",
       "  </thead>\n",
       "  <tbody>\n",
       "    <tr>\n",
       "      <th>2017-10-01 00:00:00+00:00</th>\n",
       "      <td>05427948</td>\n",
       "      <td>2.76</td>\n",
       "      <td>A</td>\n",
       "    </tr>\n",
       "    <tr>\n",
       "      <th>2017-10-02 00:00:00+00:00</th>\n",
       "      <td>05427948</td>\n",
       "      <td>3.02</td>\n",
       "      <td>A</td>\n",
       "    </tr>\n",
       "    <tr>\n",
       "      <th>2017-10-03 00:00:00+00:00</th>\n",
       "      <td>05427948</td>\n",
       "      <td>3.28</td>\n",
       "      <td>A</td>\n",
       "    </tr>\n",
       "    <tr>\n",
       "      <th>2017-10-04 00:00:00+00:00</th>\n",
       "      <td>05427948</td>\n",
       "      <td>13.30</td>\n",
       "      <td>A</td>\n",
       "    </tr>\n",
       "    <tr>\n",
       "      <th>2017-10-05 00:00:00+00:00</th>\n",
       "      <td>05427948</td>\n",
       "      <td>6.93</td>\n",
       "      <td>A, e</td>\n",
       "    </tr>\n",
       "    <tr>\n",
       "      <th>...</th>\n",
       "      <td>...</td>\n",
       "      <td>...</td>\n",
       "      <td>...</td>\n",
       "    </tr>\n",
       "    <tr>\n",
       "      <th>2024-05-26 00:00:00+00:00</th>\n",
       "      <td>05427948</td>\n",
       "      <td>37.70</td>\n",
       "      <td>P</td>\n",
       "    </tr>\n",
       "    <tr>\n",
       "      <th>2024-05-27 00:00:00+00:00</th>\n",
       "      <td>05427948</td>\n",
       "      <td>37.00</td>\n",
       "      <td>P</td>\n",
       "    </tr>\n",
       "    <tr>\n",
       "      <th>2024-05-28 00:00:00+00:00</th>\n",
       "      <td>05427948</td>\n",
       "      <td>16.20</td>\n",
       "      <td>P</td>\n",
       "    </tr>\n",
       "    <tr>\n",
       "      <th>2024-05-29 00:00:00+00:00</th>\n",
       "      <td>05427948</td>\n",
       "      <td>13.20</td>\n",
       "      <td>P</td>\n",
       "    </tr>\n",
       "    <tr>\n",
       "      <th>2024-05-30 00:00:00+00:00</th>\n",
       "      <td>05427948</td>\n",
       "      <td>7.71</td>\n",
       "      <td>P</td>\n",
       "    </tr>\n",
       "  </tbody>\n",
       "</table>\n",
       "<p>2431 rows × 3 columns</p>\n",
       "</div>"
      ],
      "text/plain": [
       "                            site_no  00060_Mean 00060_Mean_cd\n",
       "datetime                                                     \n",
       "2017-10-01 00:00:00+00:00  05427948        2.76             A\n",
       "2017-10-02 00:00:00+00:00  05427948        3.02             A\n",
       "2017-10-03 00:00:00+00:00  05427948        3.28             A\n",
       "2017-10-04 00:00:00+00:00  05427948       13.30             A\n",
       "2017-10-05 00:00:00+00:00  05427948        6.93          A, e\n",
       "...                             ...         ...           ...\n",
       "2024-05-26 00:00:00+00:00  05427948       37.70             P\n",
       "2024-05-27 00:00:00+00:00  05427948       37.00             P\n",
       "2024-05-28 00:00:00+00:00  05427948       16.20             P\n",
       "2024-05-29 00:00:00+00:00  05427948       13.20             P\n",
       "2024-05-30 00:00:00+00:00  05427948        7.71             P\n",
       "\n",
       "[2431 rows x 3 columns]"
      ]
     },
     "execution_count": 9,
     "metadata": {},
     "output_type": "execute_result"
    }
   ],
   "source": [
    "df"
   ]
  },
  {
   "cell_type": "code",
   "execution_count": 10,
   "id": "007e943f-c656-46cc-ab57-af5e886be3c9",
   "metadata": {},
   "outputs": [
    {
     "data": {
      "text/plain": [
       "NWIS_Metadata(url=https://waterservices.usgs.gov/nwis/dv?format=json&parameterCd=00060&startDT=2017-10-01&endDT=2024-05-30&sites=05427948)"
      ]
     },
     "execution_count": 10,
     "metadata": {},
     "output_type": "execute_result"
    }
   ],
   "source": [
    "meta\n",
    "# the _repr_ displays the query url"
   ]
  },
  {
   "cell_type": "markdown",
   "id": "1d3b01fc-d28a-4336-88be-1b2592d903f6",
   "metadata": {},
   "source": [
    "date and time of the query"
   ]
  },
  {
   "cell_type": "code",
   "execution_count": 11,
   "id": "6c60bd75-003d-4991-a653-03263343ffb4",
   "metadata": {},
   "outputs": [
    {
     "data": {
      "text/plain": [
       "{'Date': 'Mon, 03 Jun 2024 21:01:33 GMT', 'Server': 'Apache-Coyote/1.1', 'Strict-Transport-Security': 'max-age=31536000', 'Vary': 'Accept-Encoding', 'Content-Encoding': 'gzip', 'Content-Type': 'application/json', 'Cache-Control': 'max-age=900', 'Expires': 'Mon, 03 Jun 2024 21:16:33 GMT', 'X-UA-Compatible': 'IE=edge,chrome=1', 'Access-Control-Allow-Origin': '*', 'X-Frame-Options': 'deny', 'Keep-Alive': 'timeout=5, max=100', 'Connection': 'Keep-Alive', 'Transfer-Encoding': 'chunked'}"
      ]
     },
     "execution_count": 11,
     "metadata": {},
     "output_type": "execute_result"
    }
   ],
   "source": [
    "meta.header"
   ]
  },
  {
   "cell_type": "code",
   "execution_count": 12,
   "id": "32f8394e-db77-4a47-82c9-b73769a067c4",
   "metadata": {},
   "outputs": [
    {
     "data": {
      "text/plain": [
       "<Axes: xlabel='datetime'>"
      ]
     },
     "execution_count": 12,
     "metadata": {},
     "output_type": "execute_result"
    },
    {
     "data": {
      "image/png": "[encoded data removed]",
      "text/plain": [
       "<Figure size 640x480 with 1 Axes>"
      ]
     },
     "metadata": {},
     "output_type": "display_data"
    }
   ],
   "source": [
    "df.plot()"
   ]
  },
  {
   "cell_type": "markdown",
   "id": "4a17c4d8-fbc0-45f5-aa63-4413163dcfdc",
   "metadata": {},
   "source": [
    "Uh oh. If that plot looks strange, you might want to filter the \"approved\" data"
   ]
  },
  {
   "cell_type": "code",
   "execution_count": 13,
   "id": "f2cfb457-0f2d-45c7-a43f-50b64ce8e53c",
   "metadata": {},
   "outputs": [
    {
     "data": {
      "text/plain": [
       "<Axes: xlabel='datetime'>"
      ]
     },
     "execution_count": 13,
     "metadata": {},
     "output_type": "execute_result"
    },
    {
     "data": {
      "image/png": "[encoded data removed]",
      "text/plain": [
       "<Figure size 640x480 with 1 Axes>"
      ]
     },
     "metadata": {},
     "output_type": "display_data"
    }
   ],
   "source": [
    "df.loc[~df[\"00060_Mean_cd\"].str.contains(\"A\")] = None\n",
    "df.plot()"
   ]
  },
  {
   "cell_type": "code",
   "execution_count": 14,
   "id": "cfb99a49-563f-483e-a42d-fbf2cf3424c5",
   "metadata": {},
   "outputs": [],
   "source": [
    "# data gap example\n",
    "# variable frequency example"
   ]
  },
  {
   "cell_type": "code",
   "execution_count": 21,
   "id": "a0c8c8a5-5c31-41c7-8ac2-256fbd78ba92",
   "metadata": {},
   "outputs": [
    {
     "data": {
      "text/html": [
       "<div>\n",
       "<style scoped>\n",
       "    .dataframe tbody tr th:only-of-type {\n",
       "        vertical-align: middle;\n",
       "    }\n",
       "\n",
       "    .dataframe tbody tr th {\n",
       "        vertical-align: top;\n",
       "    }\n",
       "\n",
       "    .dataframe thead th {\n",
       "        text-align: right;\n",
       "    }\n",
       "</style>\n",
       "<table border=\"1\" class=\"dataframe\">\n",
       "  <thead>\n",
       "    <tr style=\"text-align: right;\">\n",
       "      <th></th>\n",
       "      <th>agency_cd</th>\n",
       "      <th>site_no</th>\n",
       "      <th>station_nm</th>\n",
       "      <th>site_tp_cd</th>\n",
       "      <th>dec_lat_va</th>\n",
       "      <th>dec_long_va</th>\n",
       "      <th>coord_acy_cd</th>\n",
       "      <th>dec_coord_datum_cd</th>\n",
       "      <th>alt_va</th>\n",
       "      <th>alt_acy_va</th>\n",
       "      <th>alt_datum_cd</th>\n",
       "      <th>huc_cd</th>\n",
       "    </tr>\n",
       "  </thead>\n",
       "  <tbody>\n",
       "    <tr>\n",
       "      <th>0</th>\n",
       "      <td>USGS</td>\n",
       "      <td>05407000</td>\n",
       "      <td>WISCONSIN RIVER AT MUSCODA, WI</td>\n",
       "      <td>ST</td>\n",
       "      <td>43.198056</td>\n",
       "      <td>-90.443333</td>\n",
       "      <td>S</td>\n",
       "      <td>NAD83</td>\n",
       "      <td>666.55</td>\n",
       "      <td>0.01</td>\n",
       "      <td>NAVD88</td>\n",
       "      <td>7070005</td>\n",
       "    </tr>\n",
       "  </tbody>\n",
       "</table>\n",
       "</div>"
      ],
      "text/plain": [
       "  agency_cd   site_no                      station_nm site_tp_cd  dec_lat_va  \\\n",
       "0      USGS  05407000  WISCONSIN RIVER AT MUSCODA, WI         ST   43.198056   \n",
       "\n",
       "   dec_long_va coord_acy_cd dec_coord_datum_cd  alt_va  alt_acy_va  \\\n",
       "0   -90.443333            S              NAD83  666.55        0.01   \n",
       "\n",
       "  alt_datum_cd   huc_cd  \n",
       "0       NAVD88  7070005  "
      ]
     },
     "execution_count": 21,
     "metadata": {},
     "output_type": "execute_result"
    }
   ],
   "source": [
    "# oh no. this is a bug. what_sites returns get_info\n",
    "site = \"05407000\"\n",
    "df, meta = nwis.what_sites(sites=site)\n",
    "df\n",
    "# see Laura's example to produce a nice table"
   ]
  },
  {
   "cell_type": "markdown",
   "id": "800c42c6-ff06-4772-bb99-3f85cc7ea1ea",
   "metadata": {},
   "source": [
    "The output looks the same `nwis.get_info`, because it is."
   ]
  },
  {
   "cell_type": "code",
   "execution_count": 40,
   "id": "6e9122db-4462-421f-b9ed-74d25de723cf",
   "metadata": {},
   "outputs": [],
   "source": [
    "state_cd = \"IL\"\n",
    "parameter_cd = \"00665\"  # USGS code for total phosphorus\n",
    "df, meta = nwis.what_sites(\n",
    "    stateCd=state_cd,\n",
    "    parameterCd=parameter_cd,\n",
    ")"
   ]
  },
  {
   "cell_type": "markdown",
   "id": "7103e562-0c26-435c-9f8e-418f2a6d62a7",
   "metadata": {},
   "source": [
    "Let's visualizing that query with an interactive map."
   ]
  },
  {
   "cell_type": "code",
   "execution_count": 33,
   "id": "9c868421-8cbb-434c-b1de-860f5db9be9c",
   "metadata": {},
   "outputs": [
    {
     "ename": "ModuleNotFoundError",
     "evalue": "No module named 'geopandas'",
     "output_type": "error",
     "traceback": [
      "\u001b[0;31m---------------------------------------------------------------------------\u001b[0m",
      "\u001b[0;31mModuleNotFoundError\u001b[0m                       Traceback (most recent call last)",
      "Cell \u001b[0;32mIn[33], line 1\u001b[0m\n\u001b[0;32m----> 1\u001b[0m \u001b[38;5;28;01mimport\u001b[39;00m \u001b[38;5;21;01mgeopandas\u001b[39;00m \u001b[38;5;28;01mas\u001b[39;00m \u001b[38;5;21;01mgpd\u001b[39;00m\n\u001b[1;32m      2\u001b[0m \u001b[38;5;28;01mimport\u001b[39;00m \u001b[38;5;21;01mhvplot\u001b[39;00m\u001b[38;5;21;01m.\u001b[39;00m\u001b[38;5;21;01mpandas\u001b[39;00m\n\u001b[1;32m      4\u001b[0m geometry \u001b[38;5;241m=\u001b[39m gpd\u001b[38;5;241m.\u001b[39mpoints_from_xy(df\u001b[38;5;241m.\u001b[39mdec_long_va, df\u001b[38;5;241m.\u001b[39mdec_lat_va)\n",
      "\u001b[0;31mModuleNotFoundError\u001b[0m: No module named 'geopandas'"
     ]
    }
   ],
   "source": [
    "import geopandas as gpd\n",
    "\n",
    "geometry = gpd.points_from_xy(df.dec_long_va, df.dec_lat_va)\n",
    "gdf = gpd.GeoDataFrame(df, geometry=geometry)\n",
    "\n",
    "gdf.hvplot.points(geo=True, hover_cols=[\"site_no\", \"station_nm\"], tiles=True, width=300, size=3)"
   ]
  },
  {
   "cell_type": "markdown",
   "id": "d992283f-eebe-47e2-8215-e24d35ba2c73",
   "metadata": {},
   "source": [
    "A typical workflow might involve downloading the data from these "
   ]
  },
  {
   "cell_type": "code",
   "execution_count": null,
   "id": "14916a12-045e-40f6-8295-e126bf8ee791",
   "metadata": {},
   "outputs": [],
   "source": [
    "# demonstrate querying all sites with\n",
    "# df.site_no.apply(lambda x: f'USGS-{x}')\n",
    "df, _ = nwis.get_qwdata(df.site_no.to_list())"
   ]
  },
  {
   "cell_type": "markdown",
   "id": "406f1627-e2e5-429b-b1b4-5cc6aa019aa8",
   "metadata": {},
   "source": [
    "## WQP"
   ]
  },
  {
   "cell_type": "code",
   "execution_count": 85,
   "id": "49c47457-6337-4d8b-9091-01a107829d0f",
   "metadata": {},
   "outputs": [
    {
     "name": "stderr",
     "output_type": "stream",
     "text": [
      "/Users/thodson/micromamba/envs/discontinuum-dev/lib/python3.11/site-packages/dataretrieval/wqp.py:494: UserWarning: USGS discrete water quality data availability and format are changing. Beginning in March 2024 the data obtained from legacy profiles will not include new USGS data or recent updates to existing data. To view the status of changes in data availability and code functionality, visit: https://doi-usgs.github.io/dataRetrieval/articles/Status.html. If you have additional questions about these changes, email CompTools@usgs.gov.\n",
      "  warnings.warn(('USGS discrete water quality data availability '\n"
     ]
    }
   ],
   "source": [
    "from dataretrieval import wqp\n",
    "\n",
    "df, meta = wqp.get_results(statecode=\"US:17\", pCode=\"00665\", minresults=\"200\", providers=\"NWIS\")"
   ]
  },
  {
   "cell_type": "code",
   "execution_count": 86,
   "id": "79cc0956-b939-44e6-9010-fffc32871acc",
   "metadata": {},
   "outputs": [
    {
     "data": {
      "text/plain": [
       "Index(['OrganizationIdentifier', 'OrganizationFormalName',\n",
       "       'ActivityIdentifier', 'ActivityTypeCode', 'ActivityMediaName',\n",
       "       'ActivityMediaSubdivisionName', 'ActivityStartDate',\n",
       "       'ActivityStartTime/Time', 'ActivityStartTime/TimeZoneCode',\n",
       "       'ActivityEndDate', 'ActivityEndTime/Time',\n",
       "       'ActivityEndTime/TimeZoneCode',\n",
       "       'ActivityDepthHeightMeasure/MeasureValue',\n",
       "       'ActivityDepthHeightMeasure/MeasureUnitCode',\n",
       "       'ActivityDepthAltitudeReferencePointText',\n",
       "       'ActivityTopDepthHeightMeasure/MeasureValue',\n",
       "       'ActivityTopDepthHeightMeasure/MeasureUnitCode',\n",
       "       'ActivityBottomDepthHeightMeasure/MeasureValue',\n",
       "       'ActivityBottomDepthHeightMeasure/MeasureUnitCode', 'ProjectIdentifier',\n",
       "       'ActivityConductingOrganizationText', 'MonitoringLocationIdentifier',\n",
       "       'ActivityCommentText', 'SampleAquifer', 'HydrologicCondition',\n",
       "       'HydrologicEvent', 'SampleCollectionMethod/MethodIdentifier',\n",
       "       'SampleCollectionMethod/MethodIdentifierContext',\n",
       "       'SampleCollectionMethod/MethodName', 'SampleCollectionEquipmentName',\n",
       "       'ResultDetectionConditionText', 'CharacteristicName',\n",
       "       'ResultSampleFractionText', 'ResultMeasureValue',\n",
       "       'ResultMeasure/MeasureUnitCode', 'MeasureQualifierCode',\n",
       "       'ResultStatusIdentifier', 'StatisticalBaseCode', 'ResultValueTypeName',\n",
       "       'ResultWeightBasisText', 'ResultTimeBasisText',\n",
       "       'ResultTemperatureBasisText', 'ResultParticleSizeBasisText',\n",
       "       'PrecisionValue', 'ResultCommentText', 'USGSPCode',\n",
       "       'ResultDepthHeightMeasure/MeasureValue',\n",
       "       'ResultDepthHeightMeasure/MeasureUnitCode',\n",
       "       'ResultDepthAltitudeReferencePointText', 'SubjectTaxonomicName',\n",
       "       'SampleTissueAnatomyName', 'ResultAnalyticalMethod/MethodIdentifier',\n",
       "       'ResultAnalyticalMethod/MethodIdentifierContext',\n",
       "       'ResultAnalyticalMethod/MethodName', 'MethodDescriptionText',\n",
       "       'LaboratoryName', 'AnalysisStartDate', 'ResultLaboratoryCommentText',\n",
       "       'DetectionQuantitationLimitTypeName',\n",
       "       'DetectionQuantitationLimitMeasure/MeasureValue',\n",
       "       'DetectionQuantitationLimitMeasure/MeasureUnitCode',\n",
       "       'PreparationStartDate', 'ProviderName'],\n",
       "      dtype='object')"
      ]
     },
     "execution_count": 86,
     "metadata": {},
     "output_type": "execute_result"
    }
   ],
   "source": [
    "df.columns"
   ]
  },
  {
   "cell_type": "code",
   "execution_count": 87,
   "id": "db0f2741-d80b-442d-88c9-83112bb815ef",
   "metadata": {},
   "outputs": [
    {
     "name": "stdout",
     "output_type": "stream",
     "text": [
      "The query returned 8517 samples from 28 monitoring sites.\n"
     ]
    }
   ],
   "source": [
    "n_samples = df.shape[0]\n",
    "n_sites = df[\"MonitoringLocationIdentifier\"].unique().shape[0]\n",
    "\n",
    "print(f\"The query returned {n_samples} samples from {n_sites} monitoring sites.\")"
   ]
  },
  {
   "cell_type": "code",
   "execution_count": null,
   "id": "a0ca6e19-1041-4a54-8a70-7fb80bf85c0e",
   "metadata": {},
   "outputs": [],
   "source": [
    "#"
   ]
  },
  {
   "cell_type": "code",
   "execution_count": 78,
   "id": "775ca71c-deb4-4da4-92ae-8c08e9325488",
   "metadata": {},
   "outputs": [
    {
     "data": {
      "text/plain": [
       "212"
      ]
     },
     "execution_count": 78,
     "metadata": {},
     "output_type": "execute_result"
    }
   ],
   "source": []
  },
  {
   "cell_type": "code",
   "execution_count": null,
   "id": "f177e2be-a4ac-418a-96b7-9ea4bdaa89c0",
   "metadata": {},
   "outputs": [],
   "source": []
  }
 ],
 "metadata": {
  "kernelspec": {
   "display_name": "discontinuum-dev",
   "language": "python",
   "name": "discontinuum-dev"
  },
  "language_info": {
   "codemirror_mode": {
    "name": "ipython",
    "version": 3
   },
   "file_extension": ".py",
   "mimetype": "text/x-python",
   "name": "python",
   "nbconvert_exporter": "python",
   "pygments_lexer": "ipython3",
   "version": "3.11.9"
  }
 },
 "nbformat": 4,
 "nbformat_minor": 5
}
