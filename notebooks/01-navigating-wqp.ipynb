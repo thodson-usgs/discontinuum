{
 "cells": [
  {
   "cell_type": "markdown",
   "id": "b18bfd1f-ab05-4445-b449-835dbbd4a611",
   "metadata": {},
   "source": [
    "# Multi-Agency Water Quality Data from the Water Quality Portal (WQP)\n",
    "\n",
    "`dataretrieval` also allows users to access data from the [Water Quality Portal](http://www.waterqualitydata.us/). The WQP houses data from multiple agencies; while USGS data comes from the NWIS database, EPA data comes from the STORET database (this includes many state, tribal, NGO, and academic groups). The WQP brings data from all these organizations together and provides it in a single format that has a more verbose output than NWIS. To get non-NWIS data, need to use CharacteristicName instead of parameter code.\n",
    "\n",
    "\n",
    "## WQP Basic Retrievals\n",
    "\n",
    "Much like the convenience functions for NWIS, there's a simple function for retrievals if the site number and parameter code or characteristic name is known.\n"
   ]
  },
  {
   "cell_type": "code",
   "execution_count": null,
   "id": "d138b32b-5f4c-471f-ad1d-34700cd075c9",
   "metadata": {},
   "outputs": [],
   "source": []
  }
 ],
 "metadata": {
  "kernelspec": {
   "display_name": "discontinuum-dev",
   "language": "python",
   "name": "discontinuum-dev"
  },
  "language_info": {
   "codemirror_mode": {
    "name": "ipython",
    "version": 3
   },
   "file_extension": ".py",
   "mimetype": "text/x-python",
   "name": "python",
   "nbconvert_exporter": "python",
   "pygments_lexer": "ipython3",
   "version": "3.11.9"
  }
 },
 "nbformat": 4,
 "nbformat_minor": 5
}
