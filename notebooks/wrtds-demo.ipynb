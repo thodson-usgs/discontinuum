{
 "cells": [
  {
   "cell_type": "code",
   "execution_count": null,
   "id": "c139f8d5-ae66-4e7e-9c20-8a58a704a8dc",
   "metadata": {},
   "outputs": [],
   "source": [
    "%load_ext autoreload\n",
    "%autoreload 2\n",
    "\n",
    "from discontinuum.providers import usgs\n",
    "from discontinuum.utils import aggregate_to_daily\n",
    "\n",
    "import xarray as xr"
   ]
  },
  {
   "cell_type": "code",
   "execution_count": null,
   "id": "102a05a4-2f32-4acc-ad3e-c3505b1e4846",
   "metadata": {},
   "outputs": [],
   "source": [
    "# configuration\n",
    "# Choptank River at Greensboro, MD\n",
    "#site = \"01491000\" \n",
    "#start_date = \"1979-10-01\"\n",
    "#end_date = \"2011-09-30\"\n",
    "#target_pcode = \"00631\" #5 digit USGS code\n",
    "\n",
    "# SF Coeur D Alene River \n",
    "site = \"12413470\"\n",
    "#parameter_cd = \"00665\"\n",
    "parameter_cd = \"00631\"\n",
    "start= \"1988-10-01\" \n",
    "end= \"2021-09-30\" "
   ]
  },
  {
   "cell_type": "code",
   "execution_count": null,
   "id": "e4425fc1-a193-4f51-accc-5048d7805901",
   "metadata": {},
   "outputs": [],
   "source": [
    "# download data\n",
    "\n",
    "daily = usgs.get_daily(site=site, start_date=start_date, end_date=end_date)\n",
    "samples = usgs.get_samples(site=site, start_date=start_date, end_date=end_date, pcode=target_pcode)\n",
    "\n",
    "samples = aggregate_to_daily(samples)\n",
    "\n",
    "training_data = xr.merge([samples, daily], join='inner')"
   ]
  },
  {
   "cell_type": "code",
   "execution_count": null,
   "id": "60d0eef3-1f31-4950-897b-11713e17a284",
   "metadata": {},
   "outputs": [],
   "source": [
    "# fit model\n",
    "\n",
    "from discontinuum.models import WRTDSModel\n",
    "\n",
    "model = WRTDSModel()\n",
    "model.fit(target=training_data['concentration'],\n",
    "          covariates=training_data[['time','flow']])"
   ]
  },
  {
   "cell_type": "code",
   "execution_count": null,
   "id": "1f04bfb6-b9d1-4c35-aa1d-4f073b7c494c",
   "metadata": {},
   "outputs": [],
   "source": [
    "# plot result\n",
    "\n",
    "model.plot_concentration(daily[['time','flow']])"
   ]
  },
  {
   "cell_type": "code",
   "execution_count": null,
   "id": "e116b99e-a503-4374-849c-e0752d81cbd6",
   "metadata": {},
   "outputs": [],
   "source": []
  }
 ],
 "metadata": {
  "kernelspec": {
   "display_name": "pymc",
   "language": "python",
   "name": "pymc"
  },
  "language_info": {
   "codemirror_mode": {
    "name": "ipython",
    "version": 3
   },
   "file_extension": ".py",
   "mimetype": "text/x-python",
   "name": "python",
   "nbconvert_exporter": "python",
   "pygments_lexer": "ipython3",
   "version": "3.11.9"
  }
 },
 "nbformat": 4,
 "nbformat_minor": 5
}
