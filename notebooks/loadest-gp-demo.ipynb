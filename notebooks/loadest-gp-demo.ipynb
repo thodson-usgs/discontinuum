{
 "cells": [
  {
   "cell_type": "markdown",
   "id": "4468d2cc-8303-40d7-8821-8b85c8c21e3e",
   "metadata": {},
   "source": [
    "# LOADEST GP Demo\n",
    "LOAD ESTimator (LOADEST) is a software program for estimating some constituent using surrogate variables (covariates).\n",
    "However, LOADEST has several serious limitations, and it has been all but replaced by WRTDS.\n"
   ]
  },
  {
   "cell_type": "code",
   "execution_count": null,
   "id": "c139f8d5-ae66-4e7e-9c20-8a58a704a8dc",
   "metadata": {},
   "outputs": [],
   "source": [
    "%load_ext autoreload\n",
    "%autoreload 2\n",
    "\n",
    "import matplotlib.pyplot as plt\n",
    "import xarray as xr\n",
    "\n",
    "from loadest_gp.providers import usgs\n",
    "from discontinuum.utils import aggregate_to_daily"
   ]
  },
  {
   "cell_type": "code",
   "execution_count": null,
   "id": "102a05a4-2f32-4acc-ad3e-c3505b1e4846",
   "metadata": {},
   "outputs": [],
   "source": [
    "# setup\n",
    "\n",
    "# Choptank River at Greensboro, MD\n",
    "site = \"01491000\" \n",
    "start_date = \"1979-10-01\"\n",
    "end_date = \"2011-09-30\"\n",
    "\n",
    "# SF Coeur D Alene River \n",
    "site = \"12413470\"\n",
    "start_date = \"1988-10-01\" \n",
    "end_date = \"2021-09-30\" \n",
    "\n",
    "characteristic = 'Inorganic nitrogen (nitrate and nitrite)'\n",
    "#characteristic = 'Phosphorus'\n",
    "fraction = 'Dissolved'"
   ]
  },
  {
   "cell_type": "code",
   "execution_count": null,
   "id": "e4425fc1-a193-4f51-accc-5048d7805901",
   "metadata": {},
   "outputs": [],
   "source": [
    "# download data\n",
    "\n",
    "daily = usgs.get_daily(site=site, start_date=start_date, end_date=end_date)\n",
    "samples = usgs.get_samples(site=site, start_date=start_date, end_date=end_date, characteristic=characteristic, fraction=fraction)\n",
    "\n",
    "samples = aggregate_to_daily(samples)\n",
    "\n",
    "training_data = xr.merge([samples, daily], join='inner')"
   ]
  },
  {
   "cell_type": "code",
   "execution_count": null,
   "id": "60d0eef3-1f31-4950-897b-11713e17a284",
   "metadata": {},
   "outputs": [],
   "source": [
    "%%time\n",
    "# fit model\n",
    "\n",
    "from loadest_gp import LoadestGP\n",
    "\n",
    "model = LoadestGP()\n",
    "model.fit(target=training_data['concentration'], covariates=training_data[['time','flow']])"
   ]
  },
  {
   "cell_type": "code",
   "execution_count": null,
   "id": "1f04bfb6-b9d1-4c35-aa1d-4f073b7c494c",
   "metadata": {},
   "outputs": [],
   "source": [
    "# plot result\n",
    "\n",
    "model.plot(daily[['time','flow']])"
   ]
  },
  {
   "cell_type": "code",
   "execution_count": null,
   "id": "52aa71aa-82f5-4f09-8202-683b44bacba4",
   "metadata": {},
   "outputs": [],
   "source": [
    "#  plot\n",
    "model.contourf(levels=5)\n",
    "plt.show()"
   ]
  },
  {
   "cell_type": "code",
   "execution_count": null,
   "id": "06fa42a3-2414-445b-9c25-1c7d6af6cf60",
   "metadata": {},
   "outputs": [],
   "source": [
    "# simulate concentration\n",
    "sim_slice = daily[['time','flow']].sel(time=slice(\"1990\",\"2020\"))\n",
    "\n",
    "sim = model.sample(sim_slice)"
   ]
  },
  {
   "cell_type": "code",
   "execution_count": null,
   "id": "715f6559-ae9a-4399-b947-d95c1550cd99",
   "metadata": {},
   "outputs": [],
   "source": [
    "# simulate flux\n",
    "def to_flux(concentration, flow):\n",
    "    flux = concentration * flow * 86400 * 1e-6\n",
    "    flux.attrs = sim.attrs\n",
    "    flux.attrs['units'] = 'kilograms per day'\n",
    "    flux.attrs['standard_name'] = 'flux'\n",
    "    return flux"
   ]
  },
  {
   "cell_type": "code",
   "execution_count": null,
   "id": "396f403a-65a1-482d-a1f5-57051f7a435d",
   "metadata": {},
   "outputs": [],
   "source": [
    "import matplotlib.pyplot as plt\n",
    "\n",
    "def plot_annual_sum(sim):\n",
    "    \"\"\"Describe\n",
    "    \"\"\"\n",
    "    fig, ax = plt.subplots()\n",
    "    annual = sim.resample(time='YE').sum()\n",
    "    annual.attrs['units'] = 'kilograms per year'\n",
    "    annual.attrs['short_name'] = 'flux'\n",
    "    \n",
    "    annual.to_dataframe(name=annual.attrs['short_name']).boxplot(by='time', showfliers=False, grid=False, ax=ax)\n",
    "    ax.set_ylabel('{}\\n[{}]'.format(annual.attrs['long_name'], annual.attrs['units']))\n",
    "    ax.set_xlabel('Year')\n",
    "    ax.tick_params(axis='x', labelrotation=90)\n",
    "\n",
    "    labels = ['' if (year % 5 != 0) else year for i, year in enumerate(annual.time.dt.year.values)]\n",
    "    ax.set_xticklabels(labels)\n",
    "    ax.set_title('')\n",
    "    #fig.suptitle('')\n",
    "    return ax"
   ]
  },
  {
   "cell_type": "code",
   "execution_count": null,
   "id": "ebf5a5b8-cedd-4d18-860f-9a0ea392a9b8",
   "metadata": {},
   "outputs": [],
   "source": [
    "flux = to_flux(sim, sim_slice['flow'])\n",
    "plot_annual_sum(flux)"
   ]
  },
  {
   "cell_type": "code",
   "execution_count": null,
   "id": "57176f69-df5a-4b49-93d4-ec11d33aee91",
   "metadata": {},
   "outputs": [],
   "source": [
    "# now let's create the pseudo-counterfactual\n",
    "from discontinuum.utils import time_substitution\n",
    "\n",
    "counterfactual = time_substitution(sim_slice, interval=slice(\"2005\",\"2005\"))"
   ]
  },
  {
   "cell_type": "code",
   "execution_count": null,
   "id": "0e718984-c9a5-4c85-af25-4dbe088272c8",
   "metadata": {},
   "outputs": [],
   "source": [
    "counterfactual_sim = model.sample(counterfactual)\n",
    "counterfactual_flux = to_flux(counterfactual_sim, sim_slice['flow'])"
   ]
  },
  {
   "cell_type": "code",
   "execution_count": null,
   "id": "adb2afdb-b4b4-4d6b-8429-59f3014fce1b",
   "metadata": {},
   "outputs": [],
   "source": [
    "plot_annual_sum(counterfactual_sim)"
   ]
  },
  {
   "cell_type": "code",
   "execution_count": null,
   "id": "47c395f7-7cda-4f85-b151-ce45a8bfcd11",
   "metadata": {},
   "outputs": [],
   "source": []
  }
 ],
 "metadata": {
  "kernelspec": {
   "display_name": "Python 3 (ipykernel)",
   "language": "python",
   "name": "python3"
  },
  "language_info": {
   "codemirror_mode": {
    "name": "ipython",
    "version": 3
   },
   "file_extension": ".py",
   "mimetype": "text/x-python",
   "name": "python",
   "nbconvert_exporter": "python",
   "pygments_lexer": "ipython3",
   "version": "3.12.3"
  }
 },
 "nbformat": 4,
 "nbformat_minor": 5
}
