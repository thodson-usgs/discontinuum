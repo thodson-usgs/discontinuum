{
 "cells": [
  {
   "cell_type": "code",
   "execution_count": null,
   "id": "c139f8d5-ae66-4e7e-9c20-8a58a704a8dc",
   "metadata": {},
   "outputs": [],
   "source": [
    "%load_ext autoreload\n",
    "%autoreload 2\n",
    "\n",
    "from discontinuum.providers import usgs\n",
    "from discontinuum.utils import aggregate_to_daily\n",
    "\n",
    "import xarray as xr"
   ]
  },
  {
   "cell_type": "code",
   "execution_count": null,
   "id": "102a05a4-2f32-4acc-ad3e-c3505b1e4846",
   "metadata": {},
   "outputs": [],
   "source": [
    "# setup\n",
    "\n",
    "# Choptank River at Greensboro, MD\n",
    "site = \"01491000\" \n",
    "start_date = \"1979-10-01\"\n",
    "end_date = \"2011-09-30\"\n",
    "\n",
    "# SF Coeur D Alene River \n",
    "site = \"12413470\"\n",
    "start_date = \"1988-10-01\" \n",
    "end_date = \"2021-09-30\" \n",
    "\n",
    "characteristic = 'Inorganic nitrogen (nitrate and nitrite)'\n",
    "#characteristic = 'Phosphorus'\n",
    "fraction = 'Dissolved'"
   ]
  },
  {
   "cell_type": "code",
   "execution_count": null,
   "id": "e4425fc1-a193-4f51-accc-5048d7805901",
   "metadata": {},
   "outputs": [],
   "source": [
    "# download data\n",
    "\n",
    "daily = usgs.get_daily(site=site, start_date=start_date, end_date=end_date)\n",
    "samples = usgs.get_samples(site=site, start_date=start_date, end_date=end_date, characteristic=characteristic, fraction=fraction)\n",
    "\n",
    "samples = aggregate_to_daily(samples)\n",
    "\n",
    "training_data = xr.merge([samples, daily], join='inner')"
   ]
  },
  {
   "cell_type": "code",
   "execution_count": null,
   "id": "60d0eef3-1f31-4950-897b-11713e17a284",
   "metadata": {},
   "outputs": [],
   "source": [
    "%%time\n",
    "# fit model\n",
    "\n",
    "from discontinuum.models import LoadestGP\n",
    "\n",
    "model = LoadestGP()\n",
    "model.fit(target=training_data['concentration'], covariates=training_data[['time','flow']])"
   ]
  },
  {
   "cell_type": "code",
   "execution_count": null,
   "id": "1f04bfb6-b9d1-4c35-aa1d-4f073b7c494c",
   "metadata": {},
   "outputs": [],
   "source": [
    "# plot result\n",
    "\n",
    "model.plot_concentration(daily[['time','flow']])"
   ]
  },
  {
   "cell_type": "code",
   "execution_count": null,
   "id": "968f229b-9e2a-4e4e-957d-840c7b3a9022",
   "metadata": {},
   "outputs": [],
   "source": [
    "sim = model.sample(daily[['time','flow']])"
   ]
  },
  {
   "cell_type": "code",
   "execution_count": null,
   "id": "256e8995-ecd2-4150-8b79-a448214d3d29",
   "metadata": {},
   "outputs": [],
   "source": [
    "flux = sim * daily['flow'] * 86400 * 1e-3 #kg/day"
   ]
  },
  {
   "cell_type": "code",
   "execution_count": null,
   "id": "2bcf783a-ff01-444a-8d59-a496d58ed1a1",
   "metadata": {},
   "outputs": [],
   "source": [
    "#compute load then do\n",
    "# note first year is low b/c we are pulling water years\n",
    "flux.resample(time='YE').sum().to_dataframe(name='load').boxplot(by='time', showfliers=False, grid=False)"
   ]
  }
 ],
 "metadata": {
  "kernelspec": {
   "display_name": "discontinuum-dev",
   "language": "python",
   "name": "discontinuum-dev"
  },
  "language_info": {
   "codemirror_mode": {
    "name": "ipython",
    "version": 3
   },
   "file_extension": ".py",
   "mimetype": "text/x-python",
   "name": "python",
   "nbconvert_exporter": "python",
   "pygments_lexer": "ipython3",
   "version": "3.11.9"
  }
 },
 "nbformat": 4,
 "nbformat_minor": 5
}
