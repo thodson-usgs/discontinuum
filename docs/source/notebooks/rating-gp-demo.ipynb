{
 "cells": [
  {
   "cell_type": "markdown",
   "id": "4468d2cc-8303-40d7-8821-8b85c8c21e3e",
   "metadata": {
    "editable": true,
    "slideshow": {
     "slide_type": ""
    },
    "tags": []
   },
   "source": [
    "# rating-gp (prototype)\n",
    "`rating-gp` is a prototype model that can fit rating curves (stage-discharge relationship) using a Gaussian process.\n",
    "This model seeks to expand the typical rating curve fitting process to include shifts in the rating curve with time such that the time evolution in the rating curve can be included in the model.\n",
    "\n",
    "[![Open In Colab](https://colab.research.google.com/assets/colab-badge.svg)](https://colab.research.google.com/github/thodson-usgs/discontinuum/blob/main/notebooks/rating-gp-demo.ipynb)\n",
    "[![Binder](https://mybinder.org/badge_logo.svg)](https://mybinder.org/v2/gh/thodson-usgs/discontinuum/main?labpath=notebooks%2Frating-gp-demo.ipynb)"
   ]
  },
  {
   "cell_type": "code",
   "execution_count": null,
   "id": "272692db-c31c-4f2d-9a66-bb904a85d3ce",
   "metadata": {},
   "outputs": [],
   "source": [
    "%load_ext autoreload\n",
    "%autoreload 2"
   ]
  },
  {
   "cell_type": "code",
   "execution_count": null,
   "id": "c139f8d5-ae66-4e7e-9c20-8a58a704a8dc",
   "metadata": {
    "editable": true,
    "slideshow": {
     "slide_type": ""
    },
    "tags": []
   },
   "outputs": [],
   "source": [
    "import matplotlib.pyplot as plt\n",
    "import numpy as np\n",
    "import xarray as xr\n",
    "import pandas as pd\n",
    "\n",
    "%matplotlib inline"
   ]
  },
  {
   "cell_type": "markdown",
   "id": "f0aa9360-616e-4ba3-a027-5fecb7cd5f2f",
   "metadata": {},
   "source": [
    "### USGS site 10154200\n",
    "\n",
    "Let's select a site that has a nice variation in the rating curve with time. For this example, we will use USGS site 10154200, as it has a very clear shifting with time."
   ]
  },
  {
   "cell_type": "code",
   "execution_count": null,
   "id": "102a05a4-2f32-4acc-ad3e-c3505b1e4846",
   "metadata": {},
   "outputs": [],
   "source": [
    "site = '10154200'\n",
    "\n",
    "# Select a date range\n",
    "start_date = \"1988-10-01\" \n",
    "end_date = \"2021-09-30\""
   ]
  },
  {
   "cell_type": "markdown",
   "id": "f90247a0-d376-4068-aa3a-7fbca417095e",
   "metadata": {},
   "source": [
    "Now that we have selected our site, we need to download the data. In `discontinuum`, the convention is to download directly using `providers`, which wrap a data provider's web-service and perform some initial formatting and metadata construction, then return the result as an `xarray.Dataset`. Here, we'll uses the `usgs` provider. If you need data from another source, create a `provider` and ensure the output matches that of the `usgs` provider. Here, we'll download some instantaneous stage data to use as our model's input, and some discharge data as our target. "
   ]
  },
  {
   "cell_type": "code",
   "execution_count": null,
   "id": "61a1093e-31cd-4412-b549-ede2a7e4270c",
   "metadata": {},
   "outputs": [],
   "source": [
    "from rating_gp.providers import usgs\n",
    "\n",
    "# download instantaneous stage and discharge measurements\n",
    "training_data = usgs.get_measurements(site=site, start_date=start_date, end_date=end_date)\n",
    "training_data"
   ]
  },
  {
   "cell_type": "markdown",
   "id": "09ea017d-dbc3-4453-924a-e04f8f4d0c9d",
   "metadata": {},
   "source": [
    "With the training data, we're now ready to fit a model to the site. Depending on your hardware, this should take about 10s."
   ]
  },
  {
   "cell_type": "code",
   "execution_count": null,
   "id": "60d0eef3-1f31-4950-897b-11713e17a284",
   "metadata": {},
   "outputs": [],
   "source": [
    "%%time\n",
    "# select an engine\n",
    "from rating_gp.models.gpytorch import RatingGPMarginalGPyTorch as RatingGP\n",
    "\n",
    "model = RatingGP()\n",
    "model.fit(target=training_data['discharge'],\n",
    "          covariates=training_data[['stage']],\n",
    "          target_unc=training_data['discharge_unc'])"
   ]
  },
  {
   "cell_type": "markdown",
   "id": "33170d73-2154-4fb2-8cb1-5deba1dfc96f",
   "metadata": {},
   "source": [
    "With the model fit, we can generate some nice plots of an observed rating curve and time series of both stage and discharge."
   ]
  },
  {
   "cell_type": "code",
   "execution_count": null,
   "id": "c176dcb2-1b1b-490f-884c-bf8faf88fd5e",
   "metadata": {},
   "outputs": [],
   "source": [
    "fig, ax = plt.subplots(2, 2, figsize=(13, 7), sharex='col', sharey='row')\n",
    "ax[0, 0] = model.plot_stage(ax=ax[0, 0])\n",
    "ax[1, 0] = model.plot_discharge(ax=ax[1, 0])\n",
    "ax[1, 1] = model.plot_observed_rating(ax=ax[1, 1], zorder=3)\n",
    "_ = ax[0, 1].axis('off')\n",
    "_ = model.add_time_colorbar(ax=ax[1, 1])"
   ]
  },
  {
   "cell_type": "markdown",
   "id": "dc40a9c0-8d93-4bc9-9d50-0a73ae93552b",
   "metadata": {},
   "source": [
    "One major advantage of `rating-gp` is that the resulting model can be used to make predictions of a rating curve at any moment in time. To see how well our model can predict a rating curve across time, let's plot the rating curves at an interval of every 5 years at the start of a water year (i.e., October 1st). This way we can see how well the model accounts for any shift in the rating with time."
   ]
  },
  {
   "cell_type": "code",
   "execution_count": null,
   "id": "865133e2-35d0-4126-a02f-38a0c9d5937b",
   "metadata": {},
   "outputs": [],
   "source": [
    "import warnings\n",
    "warnings.filterwarnings('ignore')\n",
    "\n",
    "fig, ax = plt.subplots(1, 1, figsize=(7.5, 5))\n",
    "ax = model.plot_ratings_in_time(ax=ax, time=pd.date_range('1990', '2021', freq='5YS-OCT'))\n",
    "ax = model.plot_ratings_in_time(ax=ax, time=['2020-10-01'], ci=0.95)\n",
    "ax = model.plot_observed_rating(ax, zorder=3)\n",
    "ax.set_xscale('log')\n",
    "ax.set_yscale('log')"
   ]
  },
  {
   "cell_type": "markdown",
   "id": "1a36ffc1-0f58-496f-80a8-af08f466cd3b",
   "metadata": {},
   "source": [
    "Nice! The shifts with time are clearly predicted by the model. These results are are promising for `rating-gp` to be able to model shift in rating curves effectively."
   ]
  },
  {
   "cell_type": "markdown",
   "id": "5e199fe6-721e-412b-8d02-d53b0096d87a",
   "metadata": {},
   "source": [
    "### Multi-site Example\n",
    "\n",
    "As a final show of how well `rating-gp` works, let's select some sites that have a nice variety of rating curves, rather then a single one. We will include ones with clear breaks and shifts and others without breaks and minimal shifts. USGS site number 12413470 is a good example of a rating with a clear break around a stage of 2.7m and very recent and drastic shift. 10131000 is another good example of a rating with a break, but no real shifts in time. 09261000 is a site with no breaks and minimal shifts making it an ideal basic example. Finally, we will keep 10154200 as it has no prominent breaks, but it does have a very clear shifting with time. Therefore, these four sites should be a nice standard for testing how `rating-gp` performs on different rating curves."
   ]
  },
  {
   "cell_type": "code",
   "execution_count": null,
   "id": "b6d25c5f-1adb-4454-8573-c794431b1939",
   "metadata": {},
   "outputs": [],
   "source": [
    "sites = {\"12413470\": 'SF Coeur D Alene River nr Pinehurst, ID',\n",
    "         '10131000': 'CHALK CREEK AT COALVILLE, UT',\n",
    "         '09261000': 'GREEN RIVER NEAR JENSEN, UT',\n",
    "         '10154200': 'PROVO RIVER NEAR WOODLAND, UT'}"
   ]
  },
  {
   "cell_type": "markdown",
   "id": "1cdd55d5-ea2a-4ed5-a7e4-f674be4367e6",
   "metadata": {},
   "source": [
    "Now that we have our sites, we need to download the data using the USGS `provider`."
   ]
  },
  {
   "cell_type": "code",
   "execution_count": null,
   "id": "eac5bb44-e5ac-4e8b-97b2-ca6a7768b2f2",
   "metadata": {},
   "outputs": [],
   "source": [
    "training_data_dict = {}\n",
    "for site in sites:\n",
    "    training_data_dict[site] = usgs.get_measurements(site=site, start_date=start_date, end_date=end_date)"
   ]
  },
  {
   "cell_type": "markdown",
   "id": "37b2ed07-f49b-4e87-8853-f42df1ded755",
   "metadata": {},
   "source": [
    "With the training data, we're now ready to fit a model to each site. Depending on your hardware, this should take about 10-20s for each site."
   ]
  },
  {
   "cell_type": "code",
   "execution_count": null,
   "id": "c8acf93b-2fb6-4f4f-bf81-5be77853b39e",
   "metadata": {},
   "outputs": [],
   "source": [
    "%%time\n",
    "model = {}\n",
    "for site in sites:\n",
    "    training_data = training_data_dict[site]\n",
    "    model[site] = RatingGP()\n",
    "    model[site].fit(target=training_data['discharge'],\n",
    "                    covariates=training_data[['stage']],\n",
    "                    target_unc=training_data['discharge_unc'],\n",
    "                    iterations=200)"
   ]
  },
  {
   "cell_type": "markdown",
   "id": "cd5c19a3-b269-4862-9bbc-16f421edfeec",
   "metadata": {},
   "source": [
    "Now that we have our models fit, let's plot all of the rating curves in time as we did above. We will again predict each rating at an interval of every 5 years at the start of a water year (i.e., October 1st) in 1990."
   ]
  },
  {
   "cell_type": "code",
   "execution_count": null,
   "id": "07bc259e-5517-496e-b342-7149ca753811",
   "metadata": {},
   "outputs": [],
   "source": [
    "fig, axes = plt.subplots(2, 2, figsize=(12, 8))\n",
    "for site, ax in zip(sites, axes.flatten()):\n",
    "    ax = model[site].plot_ratings_in_time(ax=ax, time=pd.date_range('1990', '2021', freq='5YS-OCT'))    \n",
    "    ax = model[site].plot_ratings_in_time(ax=ax, time=['2020-10-01'], ci=0.95)    \n",
    "    ax = model[site].plot_observed_rating(ax, zorder=3)\n",
    "    ax.set_xscale('log')\n",
    "    ax.set_yscale('log')\n",
    "    ax.set_title(f'{site}: {sites[site]}')\n",
    "\n",
    "plt.tight_layout()"
   ]
  }
 ],
 "metadata": {
  "kernelspec": {
   "display_name": "Python 3 (ipykernel)",
   "language": "python",
   "name": "python3"
  },
  "language_info": {
   "codemirror_mode": {
    "name": "ipython",
    "version": 3
   },
   "file_extension": ".py",
   "mimetype": "text/x-python",
   "name": "python",
   "nbconvert_exporter": "python",
   "pygments_lexer": "ipython3",
   "version": "3.12.4"
  }
 },
 "nbformat": 4,
 "nbformat_minor": 5
}
